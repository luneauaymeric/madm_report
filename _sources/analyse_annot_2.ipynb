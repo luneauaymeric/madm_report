{
 "cells": [
  {
   "cell_type": "code",
   "execution_count": 1,
   "id": "eb4f087d-917e-4795-b015-5563bad171f3",
   "metadata": {
    "slideshow": {
     "slide_type": "skip"
    },
    "tags": [
     "remove-input"
    ]
   },
   "outputs": [],
   "source": [
    "import pandas as pd\n",
    "import os\n",
    "import numpy as np\n",
    "import seaborn as sns\n",
    "import matplotlib\n",
    "import matplotlib.pyplot as plt\n",
    "import markdown as md\n",
    "from myst_nb import glue\n"
   ]
  },
  {
   "cell_type": "code",
   "execution_count": 2,
   "id": "2bd4c526-78a3-4773-85e3-d0c2d8c4e594",
   "metadata": {
    "slideshow": {
     "slide_type": "skip"
    },
    "tags": [
     "remove-input"
    ]
   },
   "outputs": [],
   "source": [
    "#url = 'https://drive.google.com/file/d/0B6GhBwm5vaB2ekdlZW5WZnppb28/view?usp=sharing'\n",
    "#path = 'https://drive.google.com/uc?export=download&id='+url.split('/')[-2]\n",
    "#df = pd.read_csv(path)\n",
    "#print(path)"
   ]
  },
  {
   "cell_type": "code",
   "execution_count": 3,
   "id": "015fec04-d055-417a-8329-35c08937864e",
   "metadata": {
    "slideshow": {
     "slide_type": "skip"
    },
    "tags": [
     "remove-input",
     "remove-output"
    ]
   },
   "outputs": [
    {
     "name": "stdout",
     "output_type": "stream",
     "text": [
      "Current directory :  /home/aymeric/python-scripts/anses_medialab/analyse_mixte/ansesreport\n",
      "Path base :  /home/aymeric/python-scripts/anses_medialab/datas/\n"
     ]
    }
   ],
   "source": [
    "current_directory = os.getcwd()\n",
    "print(\"Current directory : \", current_directory)\n",
    "\n",
    "aymeric =  \"/home/aymeric/python-scripts/anses_medialab/datas/\" #aymeric\n",
    "jp = '~/Dropbox/Mac/Desktop/CRD Anses/all3/' # Jean Philippe\n",
    "jp_index = '~/Dropbox/Mac/Desktop/CRD Anses/code/indexation_results/' # Jean Philippe index\n",
    "\n",
    "if 'aymeric' in current_directory:\n",
    "    path_base = aymeric\n",
    "    index=f\"{path_base}index_allall_domainsexhaustive.csv\"\n",
    "elif 'Mac' in current_directory:\n",
    "    path_base = jp\n",
    "    index=f'{jp_index}index_allall_domainsexhaustive.csv'\n",
    "elif 'd:/Projects' in current_directory:\n",
    "    path_base = \"d:/Projects/Medialab/\"\n",
    "    index=f\"{path_base}index_allall_domainsexhaustive.csv\"\n",
    "\n",
    "print(\"Path base : \", path_base)"
   ]
  },
  {
   "cell_type": "code",
   "execution_count": 4,
   "id": "513e81cd-9e59-4aad-ac89-b3eff1e60de3",
   "metadata": {
    "slideshow": {
     "slide_type": "skip"
    },
    "tags": [
     "remove-input",
     "remove-output"
    ]
   },
   "outputs": [
    {
     "name": "stderr",
     "output_type": "stream",
     "text": [
      "/home/aymeric/anaconda3/envs/analyse_tweets/lib/python3.9/site-packages/IPython/core/interactiveshell.py:3444: DtypeWarning: Columns (1,5,6,7,11,19) have mixed types.Specify dtype option on import or set low_memory=False.\n",
      "  exec(code_obj, self.user_global_ns, self.user_ns)\n",
      "/home/aymeric/anaconda3/envs/analyse_tweets/lib/python3.9/site-packages/IPython/core/interactiveshell.py:3444: DtypeWarning: Columns (1,7,8,9,10,11,12,13,14,15,16,17,18,19,20,21,23,24,25,26,27,29) have mixed types.Specify dtype option on import or set low_memory=False.\n",
      "  exec(code_obj, self.user_global_ns, self.user_ns)\n"
     ]
    }
   ],
   "source": [
    "# Chargement des données \n",
    "\n",
    "## Le corpus de textes avec comptes annotés\n",
    "dftext = pd.read_csv(f'{path_base}tweets_and_posts_with_annotated_account.csv', sep = \",\", doublequote=True, \n",
    "                    dtype={\"user_id\":str, \"id\":str})\n",
    "\n",
    "## Les comptes annotés\n",
    "df = pd.read_csv(f'/home/aymeric/python-scripts/anses_medialab/datas/all_annotated_account.csv', sep = \",\",\n",
    "          dtype={\"user_id\":str})\n",
    "\n",
    "\n",
    "fb_account = df.loc[(df[\"platform\"] == \"Facebook\") & (df[\"annoted\"] == True)].reset_index()\n",
    "tw_account = df.loc[(df[\"platform\"] == \"twitter\") & (df[\"annoted\"] == True)].reset_index()\n",
    "#print(len(fb_account), len(tw_account))"
   ]
  },
  {
   "cell_type": "code",
   "execution_count": 127,
   "id": "09021de1",
   "metadata": {
    "tags": [
     "remove-input"
    ]
   },
   "outputs": [],
   "source": [
    "nb_fb_annoted_account = len(df.loc[(df[\"platform\"] == \"Facebook\") & (df[\"annoted\"] == True)]) #nombre de pages et groupes facebook annotés\n",
    "nb_tw_annoted_account = len(df.loc[(df[\"platform\"] == \"twitter\") & (df[\"annoted\"] == True)]) #nombre de comptes twitter annotés\n"
   ]
  },
  {
   "cell_type": "code",
   "execution_count": 9,
   "id": "c734356e",
   "metadata": {
    "tags": [
     "remove-input"
    ]
   },
   "outputs": [
    {
     "data": {
      "application/papermill.record/text/plain": "405229"
     },
     "metadata": {
      "scrapbook": {
       "mime_prefix": "application/papermill.record/",
       "name": "nombre_de_posts"
      }
     },
     "output_type": "display_data"
    },
    {
     "data": {
      "application/papermill.record/text/plain": "405229"
     },
     "metadata": {
      "scrapbook": {
       "mime_prefix": "application/papermill.record/",
       "name": "nombre_de_posts"
      }
     },
     "output_type": "display_data"
    },
    {
     "data": {
      "application/papermill.record/text/plain": "21327"
     },
     "metadata": {
      "scrapbook": {
       "mime_prefix": "application/papermill.record/",
       "name": "nb_group"
      }
     },
     "output_type": "display_data"
    },
    {
     "data": {
      "application/papermill.record/text/plain": "30392"
     },
     "metadata": {
      "scrapbook": {
       "mime_prefix": "application/papermill.record/",
       "name": "nb_page"
      }
     },
     "output_type": "display_data"
    },
    {
     "data": {
      "application/papermill.record/text/plain": "51719"
     },
     "metadata": {
      "scrapbook": {
       "mime_prefix": "application/papermill.record/",
       "name": "nb_fb_account"
      }
     },
     "output_type": "display_data"
    },
    {
     "data": {
      "application/papermill.record/text/plain": "1351047"
     },
     "metadata": {
      "scrapbook": {
       "mime_prefix": "application/papermill.record/",
       "name": "nombre_de_tweets"
      }
     },
     "output_type": "display_data"
    },
    {
     "data": {
      "application/papermill.record/text/plain": "236670"
     },
     "metadata": {
      "scrapbook": {
       "mime_prefix": "application/papermill.record/",
       "name": "nb_tw_account"
      }
     },
     "output_type": "display_data"
    }
   ],
   "source": [
    "#Facebook\n",
    "nombre_de_posts = len(dftext.loc[(dftext[\"platform\"] == \"Facebook\")].drop_duplicates(subset = [\"id\"]))\n",
    "glue(\"nombre_de_posts\", nombre_de_posts, display = False)\n",
    "\n",
    "nb_group = len(dftext.loc[(dftext[\"platform\"] == \"Facebook\") & (dftext[\"account_type\"] ==\"facebook_group\")].drop_duplicates(subset = [\"user_id\"])) #Nombre de groupes fb\n",
    "nb_page = len(dftext.loc[(dftext[\"platform\"] == \"Facebook\") & (dftext[\"account_type\"] ==\"facebook_page\")].drop_duplicates(subset = [\"user_id\"])) #Nombre de pages fb\n",
    "nb_fb_account = nb_page + nb_group #Nombre total de sources fb\n",
    "#nb_fb_account = len(dftext.loc[(dftext[\"platform\"] == \"Facebook\")].drop_duplicates(subset = [\"user_id\"])) # Nombre total de comptes twitter\n",
    "\n",
    "glue(\"nombre_de_posts\", nombre_de_posts, display = False)\n",
    "glue(\"nb_group\", nb_group, display = False)\n",
    "glue(\"nb_page\", nb_page, display = False)\n",
    "glue(\"nb_fb_account\", nb_fb_account, display = False)\n",
    "\n",
    "## twitter\n",
    "nombre_de_tweets = len(dftext.loc[(dftext[\"platform\"] == \"twitter\")].drop_duplicates(subset = [\"id\"]))\n",
    "nb_tw_account = len(dftext.loc[(dftext[\"platform\"] == \"twitter\")].drop_duplicates(subset = [\"user_id\"])) # Nombre total de comptes twitter\n",
    "\n",
    "glue(\"nombre_de_tweets\", nombre_de_tweets, display = False)\n",
    "glue(\"nb_tw_account\", nb_tw_account, display = False)\n",
    "\n"
   ]
  },
  {
   "cell_type": "code",
   "execution_count": 10,
   "id": "58c5f1a9",
   "metadata": {
    "tags": [
     "remove-input"
    ]
   },
   "outputs": [
    {
     "data": {
      "application/vnd.jupyter.widget-view+json": {
       "model_id": "d5fd1677e7b949f4ad778b8b0a1de2ec"
      },
      "text/plain": [
       "        platform annoted                   id  \\\n",
       "1        twitter    True  1212156152076787712   \n",
       "3        twitter   False  1212144705628192768   \n",
       "4        twitter   False  1212143182022107136   \n",
       "6        twitter    True  1212139351733350401   \n",
       "7        twitter   False  1212131615817785346   \n",
       "...          ...     ...                  ...   \n",
       "1304791  twitter   False  1248917223021961217   \n",
       "1310799  twitter   False  1241783878941052929   \n",
       "1313074  twitter   False  1238437905523265536   \n",
       "1330503  twitter   False  1226037082881171456   \n",
       "1350395  twitter   False  1213022773142073349   \n",
       "\n",
       "                                                      text        date  \\\n",
       "1        @coquelicots_ Déjà faudrait il commencer par n...  2019-12-31   \n",
       "3        Chuchoteur 2020 (Journal annuel du Collectif I...  2019-12-31   \n",
       "4        Pesticides: les Coquelicots collent les SDHI! ...  2019-12-31   \n",
       "6        @PICO2935 Donc le spinosad est une \"substance ...  2019-12-31   \n",
       "7        Deux pesticides ayant le même mode d'action qu...  2019-12-31   \n",
       "...                                                    ...         ...   \n",
       "1304791  @ChSimonSU @hub_observateur @saucdu47 @Zell_br...  2020-04-11   \n",
       "1310799  on peux faire des aliments sans chimie ni pest...  2020-03-22   \n",
       "1313074  GreenTech chez @PaysdeGexagglo est maintenu et...  2020-03-13   \n",
       "1330503  @weldom_fr  LAV’PRIMEUR Nouveauté française. U...  2020-02-08   \n",
       "1350395  @ipefixe @Bnard72494594 Rassurant oui et non. ...  2020-01-03   \n",
       "\n",
       "                                           mentioned_names  \\\n",
       "1                                             coquelicots_   \n",
       "3                                             changefrance   \n",
       "4                                             coquelicots_   \n",
       "6                                                 pico2935   \n",
       "7                                                      NaN   \n",
       "...                                                    ...   \n",
       "1304791  bnoyau|chsimonsu|coquelicots_|hub_observateur|...   \n",
       "1310799                                                NaN   \n",
       "1313074  flynovpower|paysdegexagglo|planetwatchsas|safe...   \n",
       "1330503                                          weldom_fr   \n",
       "1350395                              bnard72494594|ipefixe   \n",
       "\n",
       "                                             mentioned_ids  \\\n",
       "1                                      1039098468994822146   \n",
       "3                                                603139314   \n",
       "4                                      1039098468994822146   \n",
       "6                                       945243009754587136   \n",
       "7                                                      NaN   \n",
       "...                                                    ...   \n",
       "1304791  884215311637020672|2294237978|1039098468994822...   \n",
       "1310799                                                NaN   \n",
       "1313074  1095278833912156160|1016336515042107392|121738...   \n",
       "1330503                                                NaN   \n",
       "1350395                       958859900486062082|246225841   \n",
       "\n",
       "                                      hashtags              user_id  \\\n",
       "1                          bioindustriel|lobby   776804948705153025   \n",
       "3                                          NaN   705331587941060608   \n",
       "4                                          NaN           2312970457   \n",
       "6                  flupyradifurone|sulfoxaflor            882404732   \n",
       "7                                          NaN            861574608   \n",
       "...                                        ...                  ...   \n",
       "1304791                                    NaN           2586283561   \n",
       "1310799  aquaponie|aquaponielowtech|sandponics  1227415260627427331   \n",
       "1313074                                    NaN  1032172174927450113   \n",
       "1330503                                    NaN  1220661764955701248   \n",
       "1350395                                    NaN            272893142   \n",
       "\n",
       "                       user_account_url  ... account_publication total_posts  \\\n",
       "1        https://twitter.com/fermedupre  ...              1486.0     18206.0   \n",
       "3                                   NaN  ...               121.0     10447.0   \n",
       "4                                   NaN  ...              1776.0     13265.0   \n",
       "6            https://twitter.com/YveCtx  ...              1019.0     20578.0   \n",
       "7                                   NaN  ...               293.0     51468.0   \n",
       "...                                 ...  ...                 ...         ...   \n",
       "1304791                             NaN  ...                13.0      3542.0   \n",
       "1310799                             NaN  ...                20.0       644.0   \n",
       "1313074                             NaN  ...                10.0      1266.0   \n",
       "1330503                             NaN  ...                48.0       166.0   \n",
       "1350395                             NaN  ...                13.0      4441.0   \n",
       "\n",
       "        ratio_posts yearmonth account_type  user_screen_name  \\\n",
       "1          8.162144   2019-12          NaN        fermedupre   \n",
       "3          1.158227   2019-12          NaN    SteibelMartine   \n",
       "4         13.388617   2019-12          NaN          PHurlaux   \n",
       "6          4.951890   2019-12          NaN            YveCtx   \n",
       "7          0.569286   2019-12          NaN   Sciences_Avenir   \n",
       "...             ...       ...          ...               ...   \n",
       "1304791    0.367024   2020-04          NaN          _2uentin   \n",
       "1310799    3.105590   2020-03          NaN   SolutionCovid19   \n",
       "1313074    0.789889   2020-03          NaN           InnoGex   \n",
       "1330503   28.915663   2020-02          NaN   rougeauxchrist1   \n",
       "1350395    0.292727   2020-01          NaN   CLM_in_the_navy   \n",
       "\n",
       "                                    user_name  segm start_segment end_segment  \n",
       "1        Olivier Garnier - Ferme du pré 🚜🌻🐝💉💉   6.0    2019-08-01  2020-07-31  \n",
       "3                             STEIBEL MARTINE   6.0    2019-08-01  2020-07-31  \n",
       "4                            Philippe Hurlaux   6.0    2019-08-01  2020-07-31  \n",
       "6                            Yves Courtaux 🌾🌻   6.0    2019-08-01  2020-07-31  \n",
       "7                          Sciences et Avenir   6.0    2019-08-01  2020-07-31  \n",
       "...                                       ...   ...           ...         ...  \n",
       "1304791                               2uentin   6.0    2019-08-01  2020-07-31  \n",
       "1310799                      stéphane Schmitt   6.0    2019-08-01  2020-07-31  \n",
       "1313074                               InnoGEX   6.0    2019-08-01  2020-07-31  \n",
       "1330503                                    cr   6.0    2019-08-01  2020-07-31  \n",
       "1350395                             Charlie ⚓   6.0    2019-08-01  2020-07-31  \n",
       "\n",
       "[20727 rows x 25 columns]"
      ]
     },
     "metadata": {},
     "output_type": "display_data"
    },
    {
     "data": {},
     "metadata": {
      "scrapbook": {
       "mime_prefix": "application/papermill.record/",
       "name": "sub_tw_account"
      }
     },
     "output_type": "display_data"
    },
    {
     "data": {
      "application/papermill.record/text/plain": "20727"
     },
     "metadata": {
      "scrapbook": {
       "mime_prefix": "application/papermill.record/",
       "name": "nb_tw_with_10_posts"
      }
     },
     "output_type": "display_data"
    },
    {
     "data": {
      "application/vnd.jupyter.widget-view+json": {
       "model_id": "800ad3b439734ad6ac51d307f09a4a07"
      },
      "text/plain": [
       "         platform annoted                                id  \\\n",
       "1490543  Facebook   False   313936256229746_789084422048258   \n",
       "1490544  Facebook   False  514303375371037_2451245531676802   \n",
       "1490545  Facebook   False  243631722382545_4897262587019412   \n",
       "1490547  Facebook   False  588475064661060_2157038831138001   \n",
       "1490548  Facebook   False  654944398613337_1122246851883087   \n",
       "...           ...     ...                               ...   \n",
       "1894791  Facebook   False   130669393676654_509678619109061   \n",
       "1895259  Facebook   False   229333617134508_538847942849739   \n",
       "1895265  Facebook   False   296958870375608_518854098186083   \n",
       "1897626  Facebook   False   117663981593169_644831332209762   \n",
       "1898459  Facebook   False   249169071785987_501776609858564   \n",
       "\n",
       "                                                      text        date  \\\n",
       "1490543  nan. TRAITEMENTS INFAILLIBLE CONTRE TOUS LES N...  2022-02-11   \n",
       "1490544  nan. TRAITEMENTS INFAILLIBLE CONTRE TOUS LES N...  2022-02-11   \n",
       "1490545  nan. En nous appuyant sur des pratiques durabl...  2022-02-11   \n",
       "1490547  nan. TRAITEMENTS INFAILLIBLE CONTRE TOUS LES N...  2022-02-11   \n",
       "1490548  nan. TRAITEMENTS INFAILLIBLE CONTRE TOUS LES N...  2022-02-11   \n",
       "...                                                    ...         ...   \n",
       "1894791  Démasquer Hollande et sa clique socialo-écolo ...  2013-09-02   \n",
       "1895259  nan. AGRIBIS INFO ALIMENTATION : SUITE AU DECE...  2013-08-01   \n",
       "1895265  nan. AGRIBIS INFO ALIMENTATION : SUITE AU DECE...  2013-08-01   \n",
       "1897626  Les insecticides Gaucho, Cruiser et Poncho enf...  2013-05-05   \n",
       "1898459  nan. Université Hadj Lakhdar -BATNA- & Laborat...  2013-04-01   \n",
       "\n",
       "        mentioned_names mentioned_ids hashtags          user_id  \\\n",
       "1490543             NaN           NaN      NaN  313936256229746   \n",
       "1490544             NaN           NaN      NaN  514303375371037   \n",
       "1490545             NaN           NaN      NaN  243631722382545   \n",
       "1490547             NaN           NaN      NaN  588475064661060   \n",
       "1490548             NaN           NaN      NaN  654944398613337   \n",
       "...                 ...           ...      ...              ...   \n",
       "1894791             NaN           NaN      NaN  130669393676654   \n",
       "1895259             NaN           NaN      NaN  229333617134508   \n",
       "1895265             NaN           NaN      NaN  296958870375608   \n",
       "1897626             NaN           NaN      NaN  117663981593169   \n",
       "1898459             NaN           NaN      NaN  249169071785987   \n",
       "\n",
       "                                        user_account_url  ...  \\\n",
       "1490543  https://www.facebook.com/groups/313936256229746  ...   \n",
       "1490544  https://www.facebook.com/groups/514303375371037  ...   \n",
       "1490545         https://www.facebook.com/243631722382545  ...   \n",
       "1490547  https://www.facebook.com/groups/588475064661060  ...   \n",
       "1490548  https://www.facebook.com/groups/654944398613337  ...   \n",
       "...                                                  ...  ...   \n",
       "1894791  https://www.facebook.com/groups/130669393676654  ...   \n",
       "1895259  https://www.facebook.com/groups/229333617134508  ...   \n",
       "1895265  https://www.facebook.com/groups/296958870375608  ...   \n",
       "1897626         https://www.facebook.com/117663981593169  ...   \n",
       "1898459  https://www.facebook.com/groups/249169071785987  ...   \n",
       "\n",
       "        account_publication total_posts ratio_posts yearmonth    account_type  \\\n",
       "1490543                15.0     51402.0    0.029182   2022-02  facebook_group   \n",
       "1490544               445.0     33984.0    1.309440   2022-02  facebook_group   \n",
       "1490545                11.0       773.0    1.423027   2022-02   facebook_page   \n",
       "1490547               151.0     24612.0    0.613522   2022-02  facebook_group   \n",
       "1490548               126.0     15632.0    0.806039   2022-02  facebook_group   \n",
       "...                     ...         ...         ...       ...             ...   \n",
       "1894791                12.0      7058.0    0.170020   2013-09  facebook_group   \n",
       "1895259                10.0      1786.0    0.559910   2013-08  facebook_group   \n",
       "1895265                13.0      6076.0    0.213957   2013-08  facebook_group   \n",
       "1897626                11.0       190.0    5.789474   2013-05   facebook_page   \n",
       "1898459                10.0      2062.0    0.484966   2013-04  facebook_group   \n",
       "\n",
       "         user_screen_name                                         user_name  \\\n",
       "1490543               NaN                            Entrepreneur 3.0 Group   \n",
       "1490544               NaN                            CAUSONS ENTRE AGRONOME   \n",
       "1490545     arcticgardens                                    Arctic Gardens   \n",
       "1490547               NaN  technicien en agriculture et pisciculture inclus   \n",
       "1490548               NaN      Entrepreneurs agricoles ivoiriens du vivrier   \n",
       "...                   ...                                               ...   \n",
       "1894791               NaN        Forum des Patriotes du Front  Nationaliste   \n",
       "1895259               NaN          Club des lecteurs de L'Ouest Républicain   \n",
       "1895265               NaN                              YEN A MARRE CAMEROON   \n",
       "1897626               NaN         Le mystère de la disparition des abeilles   \n",
       "1898459               NaN           Club Scientifique \"Nucleus\" de Biologie   \n",
       "\n",
       "         segm start_segment end_segment  \n",
       "1490543  12.0    2021-12-01  2022-02-11  \n",
       "1490544  12.0    2021-12-01  2022-02-11  \n",
       "1490545  12.0    2021-12-01  2022-02-11  \n",
       "1490547  12.0    2021-12-01  2022-02-11  \n",
       "1490548  12.0    2021-12-01  2022-02-11  \n",
       "...       ...           ...         ...  \n",
       "1894791   3.0    2012-11-01  2014-02-28  \n",
       "1895259   3.0    2012-11-01  2014-02-28  \n",
       "1895265   3.0    2012-11-01  2014-02-28  \n",
       "1897626   3.0    2012-11-01  2014-02-28  \n",
       "1898459   3.0    2012-11-01  2014-02-28  \n",
       "\n",
       "[6898 rows x 25 columns]"
      ]
     },
     "metadata": {},
     "output_type": "display_data"
    },
    {
     "data": {},
     "metadata": {
      "scrapbook": {
       "mime_prefix": "application/papermill.record/",
       "name": "sub_fb_account"
      }
     },
     "output_type": "display_data"
    },
    {
     "data": {
      "application/papermill.record/text/plain": "2758"
     },
     "metadata": {
      "scrapbook": {
       "mime_prefix": "application/papermill.record/",
       "name": "nb_group_with_10_posts"
      }
     },
     "output_type": "display_data"
    },
    {
     "data": {
      "application/papermill.record/text/plain": "4139"
     },
     "metadata": {
      "scrapbook": {
       "mime_prefix": "application/papermill.record/",
       "name": "nb_page_with_10_posts"
      }
     },
     "output_type": "display_data"
    },
    {
     "data": {
      "application/papermill.record/text/plain": "6897"
     },
     "metadata": {
      "scrapbook": {
       "mime_prefix": "application/papermill.record/",
       "name": "nb_fb_with_10_posts"
      }
     },
     "output_type": "display_data"
    },
    {
     "data": {
      "application/papermill.record/text/plain": "297404"
     },
     "metadata": {
      "scrapbook": {
       "mime_prefix": "application/papermill.record/",
       "name": "sub_nb_post"
      }
     },
     "output_type": "display_data"
    },
    {
     "data": {
      "application/papermill.record/text/plain": "925723"
     },
     "metadata": {
      "scrapbook": {
       "mime_prefix": "application/papermill.record/",
       "name": "sub_nb_post"
      }
     },
     "output_type": "display_data"
    },
    {
     "data": {
      "application/papermill.record/text/plain": "13.3"
     },
     "metadata": {
      "scrapbook": {
       "mime_prefix": "application/papermill.record/",
       "name": "part_of_fb_account_with_10_post"
      }
     },
     "output_type": "display_data"
    },
    {
     "data": {
      "application/papermill.record/text/plain": "8.8"
     },
     "metadata": {
      "scrapbook": {
       "mime_prefix": "application/papermill.record/",
       "name": "part_of_tw_account_with_10_tweets"
      }
     },
     "output_type": "display_data"
    },
    {
     "data": {
      "application/papermill.record/text/plain": "73.4"
     },
     "metadata": {
      "scrapbook": {
       "mime_prefix": "application/papermill.record/",
       "name": "contrib_of_fb_account_with_10"
      }
     },
     "output_type": "display_data"
    },
    {
     "data": {
      "application/papermill.record/text/plain": "73.4"
     },
     "metadata": {
      "scrapbook": {
       "mime_prefix": "application/papermill.record/",
       "name": "contrib_of_fb_account_with_10"
      }
     },
     "output_type": "display_data"
    }
   ],
   "source": [
    "##sources twitter avec 10 publications ou plus\n",
    "sub_tw_account = dftext.loc[(dftext[\"platform\"] == \"twitter\") & (dftext[\"account_publication\"] >= 10)].drop_duplicates(subset = [\"user_id\"])\n",
    "\n",
    "#Nombre de comptes twitter avec 10 publications ou plus\n",
    "nb_tw_with_10_posts = len(sub_tw_account)\n",
    "\n",
    "\n",
    "glue(\"sub_tw_account\", sub_tw_account, display = False)\n",
    "glue(\"nb_tw_with_10_posts\", nb_tw_with_10_posts, display = False)\n",
    "\n",
    "##sources fb avec 10 publications ou plus\n",
    "sub_fb_account = dftext.loc[(dftext[\"platform\"] == \"Facebook\") & (dftext[\"account_publication\"] >= 10)].drop_duplicates(subset = [\"user_id\"])\n",
    "glue(\"sub_fb_account\", sub_fb_account, display = False)\n",
    "\n",
    "\n",
    "#Nombre de groupes fb avec 10 publications ou plus\n",
    "nb_group_with_10_posts = len(sub_fb_account.loc[sub_fb_account[\"account_type\"] == \"facebook_group\"]) \n",
    "glue(\"nb_group_with_10_posts\", nb_group_with_10_posts, display = False)\n",
    "\n",
    "#Nombre de pages fb avec 10 publications ou plus\n",
    "nb_page_with_10_posts = len(sub_fb_account.loc[sub_fb_account[\"account_type\"] == \"facebook_page\"])\n",
    "glue(\"nb_page_with_10_posts\", nb_page_with_10_posts, display = False)\n",
    "\n",
    "#Nombre de sources fb avec 10 publications ou plus\n",
    "nb_fb_with_10_posts = nb_page_with_10_posts + nb_group_with_10_posts\n",
    "glue(\"nb_fb_with_10_posts\", nb_fb_with_10_posts, display = False)\n",
    "\n",
    "#Total des posts et tweets publiés par les comptes ayant 10 publications ou plus\n",
    "sub_nb_post = len(dftext.loc[(dftext[\"platform\"] == \"Facebook\") & (dftext[\"account_publication\"] >= 10)].drop_duplicates(subset = [\"id\"]))\n",
    "sub_nb_tweets = len(dftext.loc[(dftext[\"platform\"] == \"twitter\") & (dftext[\"account_publication\"] >= 10)].drop_duplicates(subset = [\"id\"]))\n",
    "glue(\"sub_nb_post\", sub_nb_post, display = False)\n",
    "glue(\"sub_nb_post\", sub_nb_tweets, display = False)\n",
    "\n",
    "part_of_fb_account_with_10_post = round(nb_fb_with_10_posts/nb_fb_account*100, 1)\n",
    "part_of_tw_account_with_10_tweets = round(nb_tw_with_10_posts/nb_tw_account*100, 1)\n",
    "glue(\"part_of_fb_account_with_10_post\", part_of_fb_account_with_10_post, display = False)\n",
    "glue(\"part_of_tw_account_with_10_tweets\", part_of_tw_account_with_10_tweets, display = False)\n",
    "\n",
    "contrib_of_fb_account_with_10 = round(sub_nb_post/nombre_de_posts*100, 1)\n",
    "contrib_of_tw_account_with_10 = round(sub_nb_tweets/nombre_de_tweets*100, 1)\n",
    "glue(\"contrib_of_fb_account_with_10\", contrib_of_fb_account_with_10, display = False)\n",
    "glue(\"contrib_of_fb_account_with_10\", contrib_of_fb_account_with_10, display = False)\n"
   ]
  },
  {
   "cell_type": "code",
   "execution_count": 11,
   "id": "834c4933-70e8-47e6-8edd-bcd2e1bc6e8d",
   "metadata": {
    "slideshow": {
     "slide_type": "skip"
    },
    "tags": [
     "remove-input"
    ]
   },
   "outputs": [
    {
     "data": {
      "application/vnd.jupyter.widget-view+json": {
       "model_id": "a2bba7d373cc4917b7243c8d8f03a0a7"
      },
      "text/plain": [
       "        platform annoted                   id  \\\n",
       "1        twitter    True  1212156152076787712   \n",
       "3        twitter   False  1212144705628192768   \n",
       "4        twitter   False  1212143182022107136   \n",
       "6        twitter    True  1212139351733350401   \n",
       "9        twitter   False  1212127236154970112   \n",
       "...          ...     ...                  ...   \n",
       "1281331  twitter   False  1273602123104690176   \n",
       "1282278  twitter   False  1273193267111383040   \n",
       "1284245  twitter   False  1270626617572950021   \n",
       "1310799  twitter   False  1241783878941052929   \n",
       "1330503  twitter   False  1226037082881171456   \n",
       "\n",
       "                                                      text        date  \\\n",
       "1        @coquelicots_ Déjà faudrait il commencer par n...  2019-12-31   \n",
       "3        Chuchoteur 2020 (Journal annuel du Collectif I...  2019-12-31   \n",
       "4        Pesticides: les Coquelicots collent les SDHI! ...  2019-12-31   \n",
       "6        @PICO2935 Donc le spinosad est une \"substance ...  2019-12-31   \n",
       "9        Arrêté anti-pesticides : \"J’invite tous les ma...  2019-12-31   \n",
       "...                                                    ...         ...   \n",
       "1281331  ELIMINER LES NUISIBLES EST AUJOURD'HUI UN JEU ...  2020-06-18   \n",
       "1282278  Nouvelle enquête de @genefutures : des pestici...  2020-06-17   \n",
       "1284245  @OlivierBrn @emma_ducros @humanite_fr @Francoi...  2020-06-10   \n",
       "1310799  on peux faire des aliments sans chimie ni pest...  2020-03-22   \n",
       "1330503  @weldom_fr  LAV’PRIMEUR Nouveauté française. U...  2020-02-08   \n",
       "\n",
       "                                           mentioned_names  \\\n",
       "1                                             coquelicots_   \n",
       "3                                             changefrance   \n",
       "4                                             coquelicots_   \n",
       "6                                                 pico2935   \n",
       "9                                                      NaN   \n",
       "...                                                    ...   \n",
       "1281331                                                NaN   \n",
       "1282278          ecologie_gouv|elisabeth_borne|genefutures   \n",
       "1284245  emma_ducros|francois_ruffin|humanite_fr|olivie...   \n",
       "1310799                                                NaN   \n",
       "1330503                                          weldom_fr   \n",
       "\n",
       "                                             mentioned_ids  \\\n",
       "1                                      1039098468994822146   \n",
       "3                                                603139314   \n",
       "4                                      1039098468994822146   \n",
       "6                                       945243009754587136   \n",
       "9                                                      NaN   \n",
       "...                                                    ...   \n",
       "1281331                                                NaN   \n",
       "1282278                      368980703|560628457|414801771   \n",
       "1284245  353732330|801822323825410049|53029114|93045903...   \n",
       "1310799                                                NaN   \n",
       "1330503                                                NaN   \n",
       "\n",
       "                                      hashtags              user_id  \\\n",
       "1                          bioindustriel|lobby   776804948705153025   \n",
       "3                                          NaN   705331587941060608   \n",
       "4                                          NaN           2312970457   \n",
       "6                  flupyradifurone|sulfoxaflor            882404732   \n",
       "9                                          NaN            108373619   \n",
       "...                                        ...                  ...   \n",
       "1281331                                    NaN  1211983148109590528   \n",
       "1282278   cancer|ecologie|pesticides|pollution  1203030037643051008   \n",
       "1284245                                    NaN  1257347661000323074   \n",
       "1310799  aquaponie|aquaponielowtech|sandponics  1227415260627427331   \n",
       "1330503                                    NaN  1220661764955701248   \n",
       "\n",
       "                       user_account_url  ... account_publication total_posts  \\\n",
       "1        https://twitter.com/fermedupre  ...              1486.0     18206.0   \n",
       "3                                   NaN  ...               121.0     10447.0   \n",
       "4                                   NaN  ...              1776.0     13265.0   \n",
       "6            https://twitter.com/YveCtx  ...              1019.0     20578.0   \n",
       "9                                   NaN  ...                63.0      6083.0   \n",
       "...                                 ...  ...                 ...         ...   \n",
       "1281331                             NaN  ...                10.0        88.0   \n",
       "1282278                             NaN  ...                19.0       366.0   \n",
       "1284245                             NaN  ...                10.0       662.0   \n",
       "1310799                             NaN  ...                20.0       644.0   \n",
       "1330503                             NaN  ...                48.0       166.0   \n",
       "\n",
       "        ratio_posts yearmonth account_type  user_screen_name  \\\n",
       "1          8.162144   2019-12          NaN        fermedupre   \n",
       "3          1.158227   2019-12          NaN    SteibelMartine   \n",
       "4         13.388617   2019-12          NaN          PHurlaux   \n",
       "6          4.951890   2019-12          NaN            YveCtx   \n",
       "9          1.035673   2019-12          NaN         ktrinecva   \n",
       "...             ...       ...          ...               ...   \n",
       "1281331   11.363636   2020-06          NaN   GREENBUILDINGG1   \n",
       "1282278    5.191257   2020-06          NaN         alter_mon   \n",
       "1284245    1.510574   2020-06          NaN     AttilaFurioso   \n",
       "1310799    3.105590   2020-03          NaN   SolutionCovid19   \n",
       "1330503   28.915663   2020-02          NaN   rougeauxchrist1   \n",
       "\n",
       "                                         user_name  segm start_segment  \\\n",
       "1             Olivier Garnier - Ferme du pré 🚜🌻🐝💉💉   6.0    2019-08-01   \n",
       "3                                  STEIBEL MARTINE   6.0    2019-08-01   \n",
       "4                                 Philippe Hurlaux   6.0    2019-08-01   \n",
       "6                                 Yves Courtaux 🌾🌻   6.0    2019-08-01   \n",
       "9        Coordination M.E.R.V.E.I.L.L.E.S du Monde   6.0    2019-08-01   \n",
       "...                                            ...   ...           ...   \n",
       "1281331                       GREEN BUILDING GROUP   6.0    2019-08-01   \n",
       "1282278                              Mon alter eco   6.0    2019-08-01   \n",
       "1284245                             Attila Furioso   6.0    2019-08-01   \n",
       "1310799                           stéphane Schmitt   6.0    2019-08-01   \n",
       "1330503                                         cr   6.0    2019-08-01   \n",
       "\n",
       "        end_segment  \n",
       "1        2020-07-31  \n",
       "3        2020-07-31  \n",
       "4        2020-07-31  \n",
       "6        2020-07-31  \n",
       "9        2020-07-31  \n",
       "...             ...  \n",
       "1281331  2020-07-31  \n",
       "1282278  2020-07-31  \n",
       "1284245  2020-07-31  \n",
       "1310799  2020-07-31  \n",
       "1330503  2020-07-31  \n",
       "\n",
       "[3991 rows x 25 columns]"
      ]
     },
     "metadata": {},
     "output_type": "display_data"
    },
    {
     "data": {},
     "metadata": {
      "scrapbook": {
       "mime_prefix": "application/papermill.record/",
       "name": "subsub_tw_account"
      }
     },
     "output_type": "display_data"
    },
    {
     "data": {
      "application/papermill.record/text/plain": "3991"
     },
     "metadata": {
      "scrapbook": {
       "mime_prefix": "application/papermill.record/",
       "name": "nb_tw_with_1percent_posts"
      }
     },
     "output_type": "display_data"
    },
    {
     "data": {
      "application/vnd.jupyter.widget-view+json": {
       "model_id": "f44412e499654dc5b6150763fef85610"
      },
      "text/plain": [
       "         platform annoted                                 id  \\\n",
       "1490544  Facebook   False   514303375371037_2451245531676802   \n",
       "1490545  Facebook   False   243631722382545_4897262587019412   \n",
       "1490554  Facebook   False    280442222854234_980935209471595   \n",
       "1490563  Facebook   False    100066504926057_289477449945750   \n",
       "1490571  Facebook    True   168702849857226_4954507317943398   \n",
       "...           ...     ...                                ...   \n",
       "1882819  Facebook   False    200757893337597_724712560942125   \n",
       "1886960  Facebook   False    352918424841207_508223579310690   \n",
       "1891801  Facebook   False  278644815585674_10152201708749015   \n",
       "1893875  Facebook   False    240314342663734_712122572149573   \n",
       "1897626  Facebook   False    117663981593169_644831332209762   \n",
       "\n",
       "                                                      text        date  \\\n",
       "1490544  nan. TRAITEMENTS INFAILLIBLE CONTRE TOUS LES N...  2022-02-11   \n",
       "1490545  nan. En nous appuyant sur des pratiques durabl...  2022-02-11   \n",
       "1490554  nan. « Le gazon est un non-sens écologique » :...  2022-02-11   \n",
       "1490563  nan. \" Niche parlementaire 2022 de La France i...  2022-02-11   \n",
       "1490571  nan. Soyez la reine des cœurs avec ces deux in...  2022-02-11   \n",
       "...                                                    ...         ...   \n",
       "1882819  nan. Plus de 60 millions de substances organiq...  2014-11-12   \n",
       "1886960  Change.org. Pétition interdisant la pulvérisat...  2014-06-23   \n",
       "1891801  Pesticides : 1.200 médecins appellent à de pro...  2014-01-31   \n",
       "1893875  nan. Recall Roundup ► one recall today • Foton...  2013-10-23   \n",
       "1897626  Les insecticides Gaucho, Cruiser et Poncho enf...  2013-05-05   \n",
       "\n",
       "        mentioned_names mentioned_ids hashtags          user_id  \\\n",
       "1490544             NaN           NaN      NaN  514303375371037   \n",
       "1490545             NaN           NaN      NaN  243631722382545   \n",
       "1490554             NaN           NaN      NaN  280442222854234   \n",
       "1490563             NaN           NaN      NaN  100066504926057   \n",
       "1490571             NaN           NaN      NaN  168702849857226   \n",
       "...                 ...           ...      ...              ...   \n",
       "1882819             NaN           NaN      NaN  200757893337597   \n",
       "1886960             NaN           NaN      NaN  352918424841207   \n",
       "1891801             NaN           NaN      NaN  278644815585674   \n",
       "1893875             NaN           NaN      NaN  100064365532724   \n",
       "1897626             NaN           NaN      NaN  117663981593169   \n",
       "\n",
       "                                        user_account_url  ...  \\\n",
       "1490544  https://www.facebook.com/groups/514303375371037  ...   \n",
       "1490545         https://www.facebook.com/243631722382545  ...   \n",
       "1490554  https://www.facebook.com/groups/280442222854234  ...   \n",
       "1490563         https://www.facebook.com/573296989537352  ...   \n",
       "1490571         https://www.facebook.com/168702849857226  ...   \n",
       "...                                                  ...  ...   \n",
       "1882819         https://www.facebook.com/200757893337597  ...   \n",
       "1886960         https://www.facebook.com/352918424841207  ...   \n",
       "1891801         https://www.facebook.com/278644815585674  ...   \n",
       "1893875         https://www.facebook.com/240314342663734  ...   \n",
       "1897626         https://www.facebook.com/117663981593169  ...   \n",
       "\n",
       "        account_publication total_posts ratio_posts yearmonth    account_type  \\\n",
       "1490544               445.0     33984.0    1.309440   2022-02  facebook_group   \n",
       "1490545                11.0       773.0    1.423027   2022-02   facebook_page   \n",
       "1490554               127.0     11224.0    1.131504   2022-02  facebook_group   \n",
       "1490563               110.0      7078.0    1.554111   2022-02   facebook_page   \n",
       "1490571               374.0      1740.0   21.494253   2022-02   facebook_page   \n",
       "...                     ...         ...         ...       ...             ...   \n",
       "1882819                16.0      1155.0    1.385281   2014-11   facebook_page   \n",
       "1886960                14.0       675.0    2.074074   2014-06   facebook_page   \n",
       "1891801                19.0      1770.0    1.073446   2014-01   facebook_page   \n",
       "1893875                68.0      5201.0    1.307441   2013-10   facebook_page   \n",
       "1897626                11.0       190.0    5.789474   2013-05   facebook_page   \n",
       "\n",
       "            user_screen_name  \\\n",
       "1490544                  NaN   \n",
       "1490545        arcticgardens   \n",
       "1490554                  NaN   \n",
       "1490563  franceinsoumise8003   \n",
       "1490571    SisleyParisFrance   \n",
       "...                      ...   \n",
       "1882819              PODBETE   \n",
       "1886960                  NaN   \n",
       "1891801      boycott.mondial   \n",
       "1893875    ACCCProductSafety   \n",
       "1897626                  NaN   \n",
       "\n",
       "                                                 user_name  segm  \\\n",
       "1490544                             CAUSONS ENTRE AGRONOME  12.0   \n",
       "1490545                                     Arctic Gardens  12.0   \n",
       "1490554     Assemblée Populaire de l'Écologie et du Climat  12.0   \n",
       "1490563        France Insoumise - 80.03  Picardie Maritime  12.0   \n",
       "1490571                                       Sisley Paris  12.0   \n",
       "...                                                    ...   ...   \n",
       "1882819  Le Parti des oiseaux, des baleines, des enfant...   4.0   \n",
       "1886960  Catastrophes. Sciences et vérité sur le change...   4.0   \n",
       "1891801                                    BOYCOTT MONDIAL   3.0   \n",
       "1893875                                ACCC Product Safety   3.0   \n",
       "1897626          Le mystère de la disparition des abeilles   3.0   \n",
       "\n",
       "        start_segment end_segment  \n",
       "1490544    2021-12-01  2022-02-11  \n",
       "1490545    2021-12-01  2022-02-11  \n",
       "1490554    2021-12-01  2022-02-11  \n",
       "1490563    2021-12-01  2022-02-11  \n",
       "1490571    2021-12-01  2022-02-11  \n",
       "...               ...         ...  \n",
       "1882819    2014-03-01  2015-02-28  \n",
       "1886960    2014-03-01  2015-02-28  \n",
       "1891801    2012-11-01  2014-02-28  \n",
       "1893875    2012-11-01  2014-02-28  \n",
       "1897626    2012-11-01  2014-02-28  \n",
       "\n",
       "[2074 rows x 25 columns]"
      ]
     },
     "metadata": {},
     "output_type": "display_data"
    },
    {
     "data": {},
     "metadata": {
      "scrapbook": {
       "mime_prefix": "application/papermill.record/",
       "name": "subsub_fb_account"
      }
     },
     "output_type": "display_data"
    },
    {
     "data": {
      "application/papermill.record/text/plain": "343"
     },
     "metadata": {
      "scrapbook": {
       "mime_prefix": "application/papermill.record/",
       "name": "nb_group_with_1percent_posts"
      }
     },
     "output_type": "display_data"
    },
    {
     "data": {
      "application/papermill.record/text/plain": "343"
     },
     "metadata": {
      "scrapbook": {
       "mime_prefix": "application/papermill.record/",
       "name": "nb_group_with_1percent_posts"
      }
     },
     "output_type": "display_data"
    },
    {
     "data": {
      "application/papermill.record/text/plain": "2074"
     },
     "metadata": {
      "scrapbook": {
       "mime_prefix": "application/papermill.record/",
       "name": "nb_fb_with_1percent_posts"
      }
     },
     "output_type": "display_data"
    },
    {
     "data": {
      "application/papermill.record/text/plain": "139571"
     },
     "metadata": {
      "scrapbook": {
       "mime_prefix": "application/papermill.record/",
       "name": "onep_sub_nb_post"
      }
     },
     "output_type": "display_data"
    },
    {
     "data": {
      "application/papermill.record/text/plain": "371393"
     },
     "metadata": {
      "scrapbook": {
       "mime_prefix": "application/papermill.record/",
       "name": "onep_sub_nb_tweets"
      }
     },
     "output_type": "display_data"
    },
    {
     "data": {
      "application/papermill.record/text/plain": "4.0"
     },
     "metadata": {
      "scrapbook": {
       "mime_prefix": "application/papermill.record/",
       "name": "part_of_fb_account_with_1percent"
      }
     },
     "output_type": "display_data"
    },
    {
     "data": {
      "application/papermill.record/text/plain": "4.0"
     },
     "metadata": {
      "scrapbook": {
       "mime_prefix": "application/papermill.record/",
       "name": "part_of_tw_account_with_1percent"
      }
     },
     "output_type": "display_data"
    },
    {
     "data": {
      "application/papermill.record/text/plain": "34.4"
     },
     "metadata": {
      "scrapbook": {
       "mime_prefix": "application/papermill.record/",
       "name": "contrib_of_fb_account_with_10"
      }
     },
     "output_type": "display_data"
    },
    {
     "data": {
      "application/papermill.record/text/plain": "27.5"
     },
     "metadata": {
      "scrapbook": {
       "mime_prefix": "application/papermill.record/",
       "name": "contrib_of_tw_account_with_10"
      }
     },
     "output_type": "display_data"
    }
   ],
   "source": [
    "\n",
    "## Sources twitter avec 10 publications ou plus et 1% de publications sur pesticides\n",
    "subsub_tw_account = sub_tw_account.loc[(sub_tw_account[\"ratio_posts\"] >= 1) & (sub_tw_account[\"ratio_posts\"] <= 100)].drop_duplicates(subset =[\"user_id\"])\n",
    "glue(\"subsub_tw_account\", subsub_tw_account, display = False)\n",
    "\n",
    "\n",
    "#Nombre de sources twitter avec 10 publications ou plus et 1% de publications sur pesticides\n",
    "nb_tw_with_1percent_posts = len(subsub_tw_account)\n",
    "glue(\"nb_tw_with_1percent_posts\", nb_tw_with_1percent_posts, display = False)\n",
    "\n",
    "\n",
    "## Sources fb avec 10 publications ou plus et 1% de publications sur pesticides\n",
    "subsub_fb_account = sub_fb_account.loc[sub_fb_account[\"ratio_posts\"] >= 1].drop_duplicates(subset =[\"user_id\"])\n",
    "glue(\"subsub_fb_account\", subsub_fb_account, display = False)\n",
    "\n",
    "#Nombre de groupes fb avec 10 publications ou plus et 1% de publications sur pesticides\n",
    "nb_group_with_1percent_posts = len(subsub_fb_account.loc[subsub_fb_account[\"account_type\"] == \"facebook_group\"])\n",
    "glue(\"nb_group_with_1percent_posts\", nb_group_with_1percent_posts, display = False)\n",
    "\n",
    "#Nombre de pages fb avec 10 publications ou plus et 1% de publications sur pesticides\n",
    "nb_page_with_1percent_posts = len(subsub_fb_account.loc[subsub_fb_account[\"account_type\"] == \"facebook_page\"])\n",
    "glue(\"nb_group_with_1percent_posts\", nb_group_with_1percent_posts, display = False)\n",
    "\n",
    "#Nombre de sources fb avec 10 publications ou plus et 1% de publications sur pesticides\n",
    "nb_fb_with_1percent_posts = nb_page_with_1percent_posts + nb_group_with_1percent_posts\n",
    "glue(\"nb_fb_with_1percent_posts\", nb_fb_with_1percent_posts, display = False)\n",
    "\n",
    "\n",
    "#Total des posts et tweets ubliés par les comptes ayant au moins 1% de publications sur pesticides\n",
    "onep_sub_nb_post =len(dftext.loc[(dftext[\"platform\"] == \"Facebook\") & (dftext[\"ratio_posts\"] >= 1) & (dftext[\"ratio_posts\"] <= 100)].drop_duplicates(subset = [\"id\"]))\n",
    "onep_sub_nb_tweets = len(dftext.loc[(dftext[\"platform\"] == \"twitter\") & (dftext[\"ratio_posts\"] >= 1) & (dftext[\"ratio_posts\"] <= 100)].drop_duplicates(subset = [\"id\"]))\n",
    "glue(\"onep_sub_nb_post\", onep_sub_nb_post, display = False)\n",
    "glue(\"onep_sub_nb_tweets\", onep_sub_nb_tweets, display = False)\n",
    "\n",
    "part_of_fb_account_with_1percent = round(nb_fb_with_1percent_posts/nb_fb_account*100, 1)\n",
    "part_of_tw_account_with_1percent = round(nb_tw_with_1percent_posts/nb_tw_account*100, 1)\n",
    "glue(\"part_of_fb_account_with_1percent\", part_of_fb_account_with_1percent, display = False)\n",
    "glue(\"part_of_tw_account_with_1percent\", part_of_fb_account_with_1percent, display = False)\n",
    "\n",
    "contrib_of_fb_account_with_10 = round(onep_sub_nb_post/nombre_de_posts*100, 1)\n",
    "contrib_of_tw_account_with_10 = round(onep_sub_nb_tweets/nombre_de_tweets*100, 1)\n",
    "glue(\"contrib_of_fb_account_with_10\", contrib_of_fb_account_with_10, display = False)\n",
    "glue(\"contrib_of_tw_account_with_10\", contrib_of_tw_account_with_10, display = False)"
   ]
  },
  {
   "cell_type": "code",
   "execution_count": 12,
   "id": "096f2911",
   "metadata": {
    "scrolled": true,
    "tags": [
     "remove-input"
    ]
   },
   "outputs": [
    {
     "data": {
      "application/vnd.jupyter.widget-view+json": {
       "model_id": "9c89a54712964db1ad204ab6a4667d97"
      },
      "text/plain": [
       "     index           user_id                           user_account_url  \\\n",
       "0        0  1482404205357954  https://www.facebook.com/1482404205357954   \n",
       "1        1   157086536071976   https://www.facebook.com/157086536071976   \n",
       "2        2   578018212607382   https://www.facebook.com/578018212607382   \n",
       "3        3   580543742458852   https://www.facebook.com/580543742458852   \n",
       "4        4   104101494871893   https://www.facebook.com/104101494871893   \n",
       "..     ...               ...                                        ...   \n",
       "225    404  1007636475986545  https://www.facebook.com/1007636475986545   \n",
       "226    406   445844852555418   https://www.facebook.com/445844852555418   \n",
       "227    430      181902555741      https://www.facebook.com/181902555741   \n",
       "228    441   238008492963770   https://www.facebook.com/238008492963770   \n",
       "229    603   100063638242896   https://www.facebook.com/282657525527601   \n",
       "\n",
       "     account_publication  total_posts                     user_name  \\\n",
       "0                   1593        420.0                   Phyto Paris   \n",
       "1                     77         77.0           Rambo Côte d’Ivoire   \n",
       "2                    190        224.0        Campagne Glyphosate 83   \n",
       "3                    254        304.0   Campagne Glyphosate Réunion   \n",
       "4                    176        215.0              Secrets Toxiques   \n",
       "..                   ...          ...                           ...   \n",
       "225                   27        565.0               Le Jeune Engagé   \n",
       "226                   25        524.0  Les perles de l'Anti-science   \n",
       "227                   56       1234.0           Slow Food en France   \n",
       "228                   38        858.0   Sos-Loue Rivières Comtoises   \n",
       "229                   46       1327.0        EELV Étoile - Huveaune   \n",
       "\n",
       "              user_screen_name  ratio_posts                      Comment  \\\n",
       "0                  phytotahiti   379.285714           Produit cosmétique   \n",
       "1                     Rambociv   100.000000  Produit phytopharmaceutique   \n",
       "2         CampagneGlyphosate83    84.821429              Campagne glypho   \n",
       "3    CampagneGlyphosateReunion    83.552632              Campagne glypho   \n",
       "4              secretstoxiques    81.860465          Fédération de cause   \n",
       "..                         ...          ...                          ...   \n",
       "225              lejeuneengage     4.778761                     Bloggeur   \n",
       "226       AntiScienceFlorilege     4.770992                 Rationaliste   \n",
       "227           slowfoodenfrance     4.538088                          NaN   \n",
       "228          rivierescomtoises     4.428904                          NaN   \n",
       "229                    10circo     3.466466                         EELV   \n",
       "\n",
       "      Type_entite  ... user_location user_created_at  platform  \\\n",
       "0    Organisation  ...           NaN             NaN  Facebook   \n",
       "1    Organisation  ...           NaN             NaN  Facebook   \n",
       "2    Organisation  ...           NaN             NaN  Facebook   \n",
       "3    Organisation  ...           NaN             NaN  Facebook   \n",
       "4    Organisation  ...           NaN             NaN  Facebook   \n",
       "..            ...  ...           ...             ...       ...   \n",
       "225      Personne  ...           NaN             NaN  Facebook   \n",
       "226  Organisation  ...           NaN             NaN  Facebook   \n",
       "227  Organisation  ...           NaN             NaN  Facebook   \n",
       "228  Organisation  ...           NaN             NaN  Facebook   \n",
       "229  Organisation  ...           NaN             NaN  Facebook   \n",
       "\n",
       "                                              user_tag  \\\n",
       "0                                    Entreprise locale   \n",
       "1                                               Marque   \n",
       "2                                                Cause   \n",
       "3                                     Cause|Communauté   \n",
       "4    Organisation pour la préservation de l’environ...   \n",
       "..                                                 ...   \n",
       "225  Communauté|Blogueur|Organisation pour la prése...   \n",
       "226                                Site web de science   \n",
       "227                           Alimentation et boissons   \n",
       "228                                         Communauté   \n",
       "229                                 Candidat politique   \n",
       "\n",
       "                       associated_tw_url   account_type  \\\n",
       "0                                    NaN  facebook_page   \n",
       "1                                    NaN  facebook_page   \n",
       "2                                    NaN  facebook_page   \n",
       "3                                    NaN  facebook_page   \n",
       "4    https://twitter.com/SecretsToxiques  facebook_page   \n",
       "..                                   ...            ...   \n",
       "225                                  NaN  facebook_page   \n",
       "226                                  NaN  facebook_page   \n",
       "227                                  NaN  facebook_page   \n",
       "228  https://twitter.com/collectifsoslrc  facebook_page   \n",
       "229                                  NaN  facebook_page   \n",
       "\n",
       "    account_page_admin_top_country annote annoted             Synthetic_logics  \n",
       "0                               PF   True    True              Marketing_logic  \n",
       "1                               CI   True    True  Agroindustrial_perspectives  \n",
       "2                               FR   True    True   Pesticide_free_agriculture  \n",
       "3                               FR   True    True   Pesticide_free_agriculture  \n",
       "4                               FR   True    True   Pesticide_free_agriculture  \n",
       "..                             ...    ...     ...                          ...  \n",
       "225                             FR   True    True      Ecological_perspectives  \n",
       "226                             FR   True    True           Positivistic_logic  \n",
       "227                             FR   True    True          Health_perspectives  \n",
       "228                             FR   True    True      Ecological_perspectives  \n",
       "229                             FR   True    True      Ecological_perspectives  \n",
       "\n",
       "[230 rows x 31 columns]"
      ]
     },
     "metadata": {},
     "output_type": "display_data"
    },
    {
     "data": {},
     "metadata": {
      "scrapbook": {
       "mime_prefix": "application/papermill.record/",
       "name": "annoted_fb_account"
      }
     },
     "output_type": "display_data"
    },
    {
     "data": {
      "application/vnd.jupyter.widget-view+json": {
       "model_id": "ced93a406fcc46a385d5b9f85ab7cd37"
      },
      "text/plain": [
       "      index              user_id                     user_account_url  \\\n",
       "0     51346   776804948705153025       https://twitter.com/fermedupre   \n",
       "1     51351            882404732           https://twitter.com/YveCtx   \n",
       "2     51357   954848807979769856        https://twitter.com/PaulYment   \n",
       "3     51359            769414741  https://twitter.com/FestimagesNatur   \n",
       "4     51374            569232644  https://twitter.com/AlerteEnvironne   \n",
       "..      ...                  ...                                  ...   \n",
       "459  204417  1220547607447121920  https://twitter.com/Marcaur41857910   \n",
       "460  233300            363209437        https://twitter.com/ToutouBio   \n",
       "461  236754            536816970     https://twitter.com/eau_purifiee   \n",
       "462  236755            307579962  https://twitter.com/AloeveraBientre   \n",
       "463  249067           1243510502  https://twitter.com/environnement_1   \n",
       "\n",
       "     account_publication  total_posts                             user_name  \\\n",
       "0                   1486      18206.0  Olivier Garnier - Ferme du pré 🚜🌻🐝💉💉   \n",
       "1                   1019      20578.0                      Yves Courtaux 🌾🌻   \n",
       "2                    143      11245.0                            Paul Yment   \n",
       "3                    481      32877.0                          CHAUVIN Yves   \n",
       "4                    744       4689.0                           Alerte Envi   \n",
       "..                   ...          ...                                   ...   \n",
       "459                  185      17542.0                             Marcaurel   \n",
       "460                  477       4673.0                            Toutou Bio   \n",
       "461                  589       7501.0                      L'eau est la vie   \n",
       "462                  393       7999.0                   Aloe-vera Bien-être   \n",
       "463                  167      15716.0                  Tout l'environnement   \n",
       "\n",
       "    user_screen_name  ratio_posts             Comment   Type_entite  ...  \\\n",
       "0         fermedupre     8.162144     Grandes culture      Personne  ...   \n",
       "1             YveCtx     4.951890                 NaN      Personne  ...   \n",
       "2          PaulYment     1.271676                 NaN      Personne  ...   \n",
       "3    FestimagesNatur     1.463029  Photographe nature      Personne  ...   \n",
       "4    AlerteEnvironne    15.866923                 NaN  Organisation  ...   \n",
       "..               ...          ...                 ...           ...  ...   \n",
       "459  Marcaur41857910     1.054612                 NaN      Personne  ...   \n",
       "460        ToutouBio    10.207575                 NaN  Organisation  ...   \n",
       "461     eau_purifiee     7.852286                 NaN  Organisation  ...   \n",
       "462  AloeveraBientre     4.913114                 NaN      Personne  ...   \n",
       "463  environnement_1     1.062611                 NaN  Organisation  ...   \n",
       "\n",
       "                   user_location      user_created_at platform user_tag  \\\n",
       "0       Le Plessis-Placy, France  2016-09-16T15:28:26  twitter      NaN   \n",
       "1          Ytres (Pas-de-Calais)  2012-10-15T14:14:46  twitter      NaN   \n",
       "2                         France  2018-01-20T22:51:10  twitter      NaN   \n",
       "3    Saint-Berthevin (53) France  2012-08-20T12:13:21  twitter      NaN   \n",
       "4                            NaN  2012-05-02T16:30:31  twitter      NaN   \n",
       "..                           ...                  ...      ...      ...   \n",
       "459                          NaN  2020-01-24T03:23:34  twitter      NaN   \n",
       "460             Toulouse, France  2011-08-27T18:20:39  twitter      NaN   \n",
       "461                paris, france  2012-03-25T23:21:50  twitter      NaN   \n",
       "462                 paris france  2011-05-29T22:17:54  twitter      NaN   \n",
       "463                          NaN  2013-03-05T11:29:42  twitter      NaN   \n",
       "\n",
       "    associated_tw_url account_type account_page_admin_top_country annote  \\\n",
       "0                 NaN          NaN                            NaN   True   \n",
       "1                 NaN          NaN                            NaN   True   \n",
       "2                 NaN          NaN                            NaN   True   \n",
       "3                 NaN          NaN                            NaN   True   \n",
       "4                 NaN          NaN                            NaN   True   \n",
       "..                ...          ...                            ...    ...   \n",
       "459               NaN          NaN                            NaN   True   \n",
       "460               NaN          NaN                            NaN   True   \n",
       "461               NaN          NaN                            NaN   True   \n",
       "462               NaN          NaN                            NaN   True   \n",
       "463               NaN          NaN                            NaN   True   \n",
       "\n",
       "    annoted             Synthetic_logics  \n",
       "0      True           Positivistic_logic  \n",
       "1      True           Positivistic_logic  \n",
       "2      True             Comment_the_news  \n",
       "3      True      Ecological_perspectives  \n",
       "4      True      Ecological_perspectives  \n",
       "..      ...                          ...  \n",
       "459    True           Positivistic_logic  \n",
       "460    True  Agroindustrial_perspectives  \n",
       "461    True      Ecological_perspectives  \n",
       "462    True              Marketing_logic  \n",
       "463    True      Ecological_perspectives  \n",
       "\n",
       "[464 rows x 31 columns]"
      ]
     },
     "metadata": {},
     "output_type": "display_data"
    },
    {
     "data": {},
     "metadata": {
      "scrapbook": {
       "mime_prefix": "application/papermill.record/",
       "name": "annoted_tw_account"
      }
     },
     "output_type": "display_data"
    },
    {
     "data": {
      "application/vnd.jupyter.widget-view+json": {
       "model_id": "41c654a08a134b17aee09d2de441ec36"
      },
      "text/plain": [
       "       index           user_id  \\\n",
       "0          0  1482404205357954   \n",
       "1          1   157086536071976   \n",
       "2          2   578018212607382   \n",
       "3          3   580543742458852   \n",
       "4          4   104101494871893   \n",
       "...      ...               ...   \n",
       "51340  51340   414696865370222   \n",
       "51341  51341   257423891109368   \n",
       "51342  51342   201993529841614   \n",
       "51343  51343   100064705627305   \n",
       "51344  51344   236493433040761   \n",
       "\n",
       "                                      user_account_url  account_publication  \\\n",
       "0            https://www.facebook.com/1482404205357954                 1593   \n",
       "1             https://www.facebook.com/157086536071976                   77   \n",
       "2             https://www.facebook.com/578018212607382                  190   \n",
       "3             https://www.facebook.com/580543742458852                  254   \n",
       "4             https://www.facebook.com/104101494871893                  176   \n",
       "...                                                ...                  ...   \n",
       "51340  https://www.facebook.com/groups/414696865370222                    1   \n",
       "51341  https://www.facebook.com/groups/257423891109368                    1   \n",
       "51342  https://www.facebook.com/groups/201993529841614                    1   \n",
       "51343         https://www.facebook.com/444788156266627                    1   \n",
       "51344         https://www.facebook.com/236493433040761                    1   \n",
       "\n",
       "       total_posts                                          user_name  \\\n",
       "0            420.0                                        Phyto Paris   \n",
       "1             77.0                                Rambo Côte d’Ivoire   \n",
       "2            224.0                             Campagne Glyphosate 83   \n",
       "3            304.0                        Campagne Glyphosate Réunion   \n",
       "4            215.0                                   Secrets Toxiques   \n",
       "...            ...                                                ...   \n",
       "51340          NaN                         Agenda concert toulouse 31   \n",
       "51341          NaN  ANNONCES DE CONCERTS QUI FONT DU BRUIT EN REGI...   \n",
       "51342          NaN        Les concerts et Jam Sessions Toulousaines !   \n",
       "51343          NaN                              NPD Laurier-Ste-Marie   \n",
       "51344          NaN                        Good Smile Company (France)   \n",
       "\n",
       "                user_screen_name  ratio_posts                      Comment  \\\n",
       "0                    phytotahiti   379.285714           Produit cosmétique   \n",
       "1                       Rambociv   100.000000  Produit phytopharmaceutique   \n",
       "2           CampagneGlyphosate83    84.821429              Campagne glypho   \n",
       "3      CampagneGlyphosateReunion    83.552632              Campagne glypho   \n",
       "4                secretstoxiques    81.860465          Fédération de cause   \n",
       "...                          ...          ...                          ...   \n",
       "51340                        NaN          NaN                          NaN   \n",
       "51341                        NaN          NaN                          NaN   \n",
       "51342                        NaN          NaN                          NaN   \n",
       "51343             NPDNimaMachouf          NaN                          NaN   \n",
       "51344     GoodSmileCompanyFrance          NaN                          NaN   \n",
       "\n",
       "        Type_entite  ... user_location user_created_at  platform  \\\n",
       "0      Organisation  ...           NaN             NaN  Facebook   \n",
       "1      Organisation  ...           NaN             NaN  Facebook   \n",
       "2      Organisation  ...           NaN             NaN  Facebook   \n",
       "3      Organisation  ...           NaN             NaN  Facebook   \n",
       "4      Organisation  ...           NaN             NaN  Facebook   \n",
       "...             ...  ...           ...             ...       ...   \n",
       "51340           NaN  ...           NaN             NaN  Facebook   \n",
       "51341           NaN  ...           NaN             NaN  Facebook   \n",
       "51342           NaN  ...           NaN             NaN  Facebook   \n",
       "51343           NaN  ...           NaN             NaN  Facebook   \n",
       "51344           NaN  ...           NaN             NaN  Facebook   \n",
       "\n",
       "                                                user_tag  \\\n",
       "0                                      Entreprise locale   \n",
       "1                                                 Marque   \n",
       "2                                                  Cause   \n",
       "3                                       Cause|Communauté   \n",
       "4      Organisation pour la préservation de l’environ...   \n",
       "...                                                  ...   \n",
       "51340                                                NaN   \n",
       "51341                                                NaN   \n",
       "51342                                                NaN   \n",
       "51343                                                NaN   \n",
       "51344                                                NaN   \n",
       "\n",
       "                         associated_tw_url   account_type  \\\n",
       "0                                      NaN  facebook_page   \n",
       "1                                      NaN  facebook_page   \n",
       "2                                      NaN  facebook_page   \n",
       "3                                      NaN  facebook_page   \n",
       "4      https://twitter.com/SecretsToxiques  facebook_page   \n",
       "...                                    ...            ...   \n",
       "51340                                  NaN            NaN   \n",
       "51341                                  NaN            NaN   \n",
       "51342                                  NaN            NaN   \n",
       "51343                                  NaN            NaN   \n",
       "51344                                  NaN            NaN   \n",
       "\n",
       "      account_page_admin_top_country annote annoted  \\\n",
       "0                                 PF   True    True   \n",
       "1                                 CI   True    True   \n",
       "2                                 FR   True    True   \n",
       "3                                 FR   True    True   \n",
       "4                                 FR   True    True   \n",
       "...                              ...    ...     ...   \n",
       "51340                            NaN    NaN   False   \n",
       "51341                            NaN    NaN   False   \n",
       "51342                            NaN    NaN   False   \n",
       "51343                            NaN    NaN   False   \n",
       "51344                            NaN    NaN   False   \n",
       "\n",
       "                  Synthetic_logics  \n",
       "0                  Marketing_logic  \n",
       "1      Agroindustrial_perspectives  \n",
       "2       Pesticide_free_agriculture  \n",
       "3       Pesticide_free_agriculture  \n",
       "4       Pesticide_free_agriculture  \n",
       "...                            ...  \n",
       "51340                          NaN  \n",
       "51341                          NaN  \n",
       "51342                          NaN  \n",
       "51343                          NaN  \n",
       "51344                          NaN  \n",
       "\n",
       "[51345 rows x 31 columns]"
      ]
     },
     "metadata": {},
     "output_type": "display_data"
    },
    {
     "data": {},
     "metadata": {
      "scrapbook": {
       "mime_prefix": "application/papermill.record/",
       "name": "fb_account"
      }
     },
     "output_type": "display_data"
    },
    {
     "data": {
      "application/vnd.jupyter.widget-view+json": {
       "model_id": "1725ef6e6e2f4213bf29b2bd37fe3736"
      },
      "text/plain": [
       "         index              user_id                user_account_url  \\\n",
       "0        51345            600997333                             NaN   \n",
       "1        51346   776804948705153025  https://twitter.com/fermedupre   \n",
       "2        51347   951470420728991744                             NaN   \n",
       "3        51348   705331587941060608                             NaN   \n",
       "4        51349           2312970457                             NaN   \n",
       "...        ...                  ...                             ...   \n",
       "236665  288010   784048370713264128                             NaN   \n",
       "236666  288011  1082953215040196608                             NaN   \n",
       "236667  288012   945683674216923138                             NaN   \n",
       "236668  288013            334197865                             NaN   \n",
       "236669  288014   763067805470253056                             NaN   \n",
       "\n",
       "        account_publication  total_posts  \\\n",
       "0                         8     235217.0   \n",
       "1                      1486      18206.0   \n",
       "2                         2      18111.0   \n",
       "3                       121      10447.0   \n",
       "4                      1776      13265.0   \n",
       "...                     ...          ...   \n",
       "236665                    1        784.0   \n",
       "236666                    1       3319.0   \n",
       "236667                    1       5203.0   \n",
       "236668                    1      11069.0   \n",
       "236669                    1      15430.0   \n",
       "\n",
       "                                   user_name user_screen_name  ratio_posts  \\\n",
       "0                                     Jolyne   Topshattabaton     0.003401   \n",
       "1       Olivier Garnier - Ferme du pré 🚜🌻🐝💉💉       fermedupre     8.162144   \n",
       "2                            Anto Simon ⭐️⭐️     anthosimon86     0.011043   \n",
       "3                            STEIBEL MARTINE   SteibelMartine     1.158227   \n",
       "4                           Philippe Hurlaux         PHurlaux    13.388617   \n",
       "...                                      ...              ...          ...   \n",
       "236665                         David Travers  david_travers35     0.127551   \n",
       "236666                               abedega       AbedegaGuy     0.030130   \n",
       "236667                         Marie Provost   familleprovost     0.019220   \n",
       "236668                              DjShakit         DjShakit     0.009034   \n",
       "236669                   Le Petit Yoda Corse   CORSICANO20000     0.006481   \n",
       "\n",
       "                Comment Type_entite  ...             user_location  \\\n",
       "0                   NaN         NaN  ...                       NaN   \n",
       "1       Grandes culture    Personne  ...  Le Plessis-Placy, France   \n",
       "2                   NaN         NaN  ...                       NaN   \n",
       "3                   NaN         NaN  ...                       NaN   \n",
       "4                   NaN         NaN  ...                       NaN   \n",
       "...                 ...         ...  ...                       ...   \n",
       "236665              NaN         NaN  ...                       NaN   \n",
       "236666              NaN         NaN  ...                       NaN   \n",
       "236667              NaN         NaN  ...                       NaN   \n",
       "236668              NaN         NaN  ...                       NaN   \n",
       "236669              NaN         NaN  ...                       NaN   \n",
       "\n",
       "            user_created_at platform user_tag associated_tw_url account_type  \\\n",
       "0                       NaN  twitter      NaN               NaN          NaN   \n",
       "1       2016-09-16T15:28:26  twitter      NaN               NaN          NaN   \n",
       "2                       NaN  twitter      NaN               NaN          NaN   \n",
       "3                       NaN  twitter      NaN               NaN          NaN   \n",
       "4                       NaN  twitter      NaN               NaN          NaN   \n",
       "...                     ...      ...      ...               ...          ...   \n",
       "236665                  NaN  twitter      NaN               NaN          NaN   \n",
       "236666                  NaN  twitter      NaN               NaN          NaN   \n",
       "236667                  NaN  twitter      NaN               NaN          NaN   \n",
       "236668                  NaN  twitter      NaN               NaN          NaN   \n",
       "236669                  NaN  twitter      NaN               NaN          NaN   \n",
       "\n",
       "       account_page_admin_top_country annote annoted    Synthetic_logics  \n",
       "0                                 NaN    NaN   False                 NaN  \n",
       "1                                 NaN   True    True  Positivistic_logic  \n",
       "2                                 NaN    NaN   False                 NaN  \n",
       "3                                 NaN    NaN   False                 NaN  \n",
       "4                                 NaN    NaN   False                 NaN  \n",
       "...                               ...    ...     ...                 ...  \n",
       "236665                            NaN    NaN   False                 NaN  \n",
       "236666                            NaN    NaN   False                 NaN  \n",
       "236667                            NaN    NaN   False                 NaN  \n",
       "236668                            NaN    NaN   False                 NaN  \n",
       "236669                            NaN    NaN   False                 NaN  \n",
       "\n",
       "[236670 rows x 31 columns]"
      ]
     },
     "metadata": {},
     "output_type": "display_data"
    },
    {
     "data": {},
     "metadata": {
      "scrapbook": {
       "mime_prefix": "application/papermill.record/",
       "name": "tw_account"
      }
     },
     "output_type": "display_data"
    },
    {
     "data": {
      "application/papermill.record/text/plain": "'Campagne Glyphosate 83'"
     },
     "metadata": {
      "scrapbook": {
       "mime_prefix": "application/papermill.record/",
       "name": "glypho_campagne"
      }
     },
     "output_type": "display_data"
    },
    {
     "data": {
      "application/papermill.record/text/plain": "190"
     },
     "metadata": {
      "scrapbook": {
       "mime_prefix": "application/papermill.record/",
       "name": "glypho_campagne_nb_pest"
      }
     },
     "output_type": "display_data"
    },
    {
     "data": {
      "application/papermill.record/text/plain": "224"
     },
     "metadata": {
      "scrapbook": {
       "mime_prefix": "application/papermill.record/",
       "name": "glypho_campagne_nb"
      }
     },
     "output_type": "display_data"
    },
    {
     "data": {
      "application/papermill.record/text/plain": "84.8"
     },
     "metadata": {
      "scrapbook": {
       "mime_prefix": "application/papermill.record/",
       "name": "glypho_campagne_ratio"
      }
     },
     "output_type": "display_data"
    },
    {
     "data": {
      "application/papermill.record/text/plain": "'Alternatiba Mulhouse'"
     },
     "metadata": {
      "scrapbook": {
       "mime_prefix": "application/papermill.record/",
       "name": "alternatiba"
      }
     },
     "output_type": "display_data"
    },
    {
     "data": {
      "application/papermill.record/text/plain": "16"
     },
     "metadata": {
      "scrapbook": {
       "mime_prefix": "application/papermill.record/",
       "name": "alternatiba_nb_pest"
      }
     },
     "output_type": "display_data"
    },
    {
     "data": {
      "application/papermill.record/text/plain": "1781.0"
     },
     "metadata": {
      "scrapbook": {
       "mime_prefix": "application/papermill.record/",
       "name": "alternatiba_nb"
      }
     },
     "output_type": "display_data"
    },
    {
     "data": {
      "application/papermill.record/text/plain": "0.9"
     },
     "metadata": {
      "scrapbook": {
       "mime_prefix": "application/papermill.record/",
       "name": "alternatiba_ratio"
      }
     },
     "output_type": "display_data"
    },
    {
     "data": {
      "application/papermill.record/text/plain": "'Extinction Rebellion Auderghem'"
     },
     "metadata": {
      "scrapbook": {
       "mime_prefix": "application/papermill.record/",
       "name": "rebellion"
      }
     },
     "output_type": "display_data"
    },
    {
     "data": {
      "application/papermill.record/text/plain": "11"
     },
     "metadata": {
      "scrapbook": {
       "mime_prefix": "application/papermill.record/",
       "name": "rebellion_nb_pest"
      }
     },
     "output_type": "display_data"
    },
    {
     "data": {
      "application/papermill.record/text/plain": "275"
     },
     "metadata": {
      "scrapbook": {
       "mime_prefix": "application/papermill.record/",
       "name": "rebellion_nb"
      }
     },
     "output_type": "display_data"
    },
    {
     "data": {
      "application/papermill.record/text/plain": "4.0"
     },
     "metadata": {
      "scrapbook": {
       "mime_prefix": "application/papermill.record/",
       "name": "rebellion_ratio"
      }
     },
     "output_type": "display_data"
    }
   ],
   "source": [
    "#import bamboolib\n",
    "annoted_fb_account = df.loc[(df[\"platform\"] == \"Facebook\") & (df[\"annoted\"] == True)].reset_index()\n",
    "annoted_tw_account = df.loc[(df[\"platform\"] == \"twitter\") & (df[\"annoted\"] == True)].reset_index()\n",
    "glue(\"annoted_fb_account\", annoted_fb_account, display = False)\n",
    "glue(\"annoted_tw_account\", annoted_tw_account, display = False)\n",
    "\n",
    "fb_account = df.loc[(df[\"platform\"] == \"Facebook\")].reset_index()\n",
    "tw_account = df.loc[(df[\"platform\"] == \"twitter\")].reset_index()\n",
    "\n",
    "glue(\"fb_account\", fb_account, display = False)\n",
    "glue(\"tw_account\", tw_account, display = False)\n",
    "\n",
    "glypho_campagne = fb_account[\"user_name\"].iloc[2]\n",
    "glypho_campagne_nb_pest = fb_account[\"account_publication\"].iloc[2]\n",
    "glypho_campagne_nb = int(fb_account[\"total_posts\"].iloc[2])\n",
    "glypho_campagne_ratio = round(fb_account[\"ratio_posts\"].iloc[2], 1)\n",
    "\n",
    "glue(\"glypho_campagne\", glypho_campagne, display = False)\n",
    "glue(\"glypho_campagne_nb_pest\", glypho_campagne_nb_pest, display = False)\n",
    "glue(\"glypho_campagne_nb\", glypho_campagne_nb, display = False)\n",
    "glue(\"glypho_campagne_ratio\", glypho_campagne_ratio, display = False)\n",
    "\n",
    "alternatiba = fb_account[\"user_name\"].iloc[2214]\n",
    "alternatiba_nb_pest = fb_account[\"account_publication\"].iloc[2214]\n",
    "alternatiba_nb = fb_account[\"total_posts\"].iloc[2214]\n",
    "alternatiba_ratio = round(fb_account[\"ratio_posts\"].iloc[2214], 1)\n",
    "\n",
    "glue(\"alternatiba\", alternatiba, display = False)\n",
    "glue(\"alternatiba_nb_pest\", alternatiba_nb_pest, display = False)\n",
    "glue(\"alternatiba_nb\", alternatiba_nb, display = False)\n",
    "glue(\"alternatiba_ratio\", alternatiba_ratio, display = False)\n",
    "\n",
    "rebellion = fb_account[\"user_name\"].iloc[500]\n",
    "rebellion_nb_pest = fb_account[\"account_publication\"].iloc[500]\n",
    "rebellion_nb = int(fb_account[\"total_posts\"].iloc[500])\n",
    "rebellion_ratio = round(fb_account[\"ratio_posts\"].iloc[500], 1)\n",
    "\n",
    "glue(\"rebellion\", rebellion, display = False)\n",
    "glue(\"rebellion_nb_pest\", rebellion_nb_pest, display = False)\n",
    "glue(\"rebellion_nb\", rebellion_nb, display = False)\n",
    "glue(\"rebellion_ratio\", rebellion_ratio, display = False)\n",
    "\n"
   ]
  },
  {
   "cell_type": "markdown",
   "id": "95a9e669",
   "metadata": {},
   "source": [
    "# La composition des corpus\n",
    "\n",
    "## Le nombre de pages, groupes (Facebook) et comptes annotés (Twitter)"
   ]
  },
  {
   "cell_type": "markdown",
   "id": "4ad660bc",
   "metadata": {},
   "source": [
    "Le corpus Twitter\" est composé de {glue:text}`nombre_de_tweets` tweets publiés par {glue:text}`nb_tw_account`. Le \"corpus Facebook\" contient quant à lui {glue:}`nombre_de_post` publications produites par {glue:text}`nb_fb_account` comptes, dont {glue:text}`nb_page` pages et {glue:text}`nb_group`. Toutefois, les analyses ci-après portent uniquement sur les {glue:text}`nb_fb_annoted_account` groupes et pages facebook ainsi que les {glue:text}`nb_tw_annoted_account` comptes twitter que nous avons \"annoté\" à la main. Les comptes ont été choisis de la façon suivante :\n",
    "\n",
    "1. Pour chacun des corpus (twitter et facebook) de départ, nous avons conservé les comptes avec dix publications ou plus sur le sujet des pesticides.\n",
    "\n",
    "Cela représente un premier échantillon de {glue:text}`nb_page_with_10_posts` pages et {glue:text}`nb_group_with_10_posts` groupes Facebook, soit {glue:text}`nb_fb_with_10_posts` comptes. Cela représente {glue:text}`part_of_fb_account_with_10_post` % du nombre total de comptes. Ils sont à l'origine de {glue:text}`contrib_of_fb_account_with_10` % des posts du corpus.\n",
    "\n",
    "Concernant le corpus twitter, on a {glue:text}`nb_tw_with_10_posts` comptes ayant publié dix tweets ou plus, soit {glue:text}`part_of_tw_account_with_10_tweets` % des comptes. Ces {glue:text}`nb_tw_with_10_posts` comptes ont publiés {glue:text}`contrib_of_tw_account_with_10` % des tweets du corpus ({glue:text}`sub_nb_tweets` sur {glue:text}`nombre_de_tweets`).\n",
    "\n",
    "2. À partir de ce premier sous-ensemble, nous avons calculé un ratio donnant pour chaque compte la part des publications relatives aux pesticides (celles incluses dans le corpus) sur le total de ses publications. \n",
    "\n",
    "Ce faisant, on obtient dans le cas du corpus Facebook un second sous-ensemble composé de {glue:text}`nb_page_with_1percent_posts` pages et {glue:text}`nb_group_with_1percent_posts` groupes, soit {glue:text}`nb_fb_with_1percent_posts` comptes. Cela représente {glue:text}`part_of_fb_account_with_1percent` % des comptes, leurs contributions constituant {glue:text}`contrib_of_fb_account_with_10` % du corpus Facebook.\n",
    "\n",
    "Dans le cas du corpus Twitter, les comptes qui ont 1% ou plus de leurs tweets sur les pesticides sont {glue:text}`onep_sub_nb_tweets`, soit {glue:text}`part_of_tw_account_with_1percent` %. Ils sont à l'origine de {glue:text}`contrib_of_tw_account_with_10` % des tweets du corpus.\n",
    "\n",
    "3. Enfin, après avoir triés les tableaux de données en fonction du ratio \"publication sur les pesticides/total des publications\" par ordre décroissant, nous avons annotés les {glue:text}`nb_fb_annoted_account` premiers groupes et pages Facebook, et les {glue:text}`nb_tw_annoted_account` premiers comptes Twitter. Illustrons cette dernière avec trois cas concrets (pris du corpus Facebook) :\n",
    "\n",
    "> Cas 1: La page {glue:text}`glypho_campagne` a publié {glue:text}`glypho_campagne_nb_pest` posts relatifs à la question des pesticides sur un total de {glue:text}`glypho_campagne_nb`. On a donc un ratio de {glue:text}`glypho_campagne_ratio` %. Il fait par ailleurs partie du 2e plus gros contributeur du corpus. Il sera donc annoté.\n",
    "\n",
    "> Cas 2 : La page {glue:text}`alternatiba` a publié {glue:text}`alternatiba_nb_pest` posts relatifs à la question des pesticides sur un total de {glue:text}`alternatiba_nb`. On a donc un ratio de {glue:text}`alternatiba_ratio` %. Le ratio est inférieur à 1 %, la page ne sera pas annotée.\n",
    "\n",
    "> Cas 3 : La page {glue:text}`rebellion` a publié {glue:text}`rebellion_nb_pest` posts relatifs à la question des pesticides sur un total de {glue:text}`rebellion_nb`. On a donc un ratio de {glue:text}`rebellion_ratio` %. Bien que le ratio soit supérieur à 1 %, la page n'est que la cinq cent unième contributrice du corpus. Elle ne sera pas annotée."
   ]
  },
  {
   "cell_type": "code",
   "execution_count": 13,
   "id": "77837625",
   "metadata": {
    "slideshow": {
     "slide_type": "skip"
    },
    "tags": [
     "remove-input"
    ]
   },
   "outputs": [
    {
     "data": {
      "application/vnd.jupyter.widget-view+json": {
       "model_id": "706ffa15c640400892a67beb428d1cd9"
      },
      "text/plain": [
       "         platform annoted                                 id  \\\n",
       "1490544  Facebook   False   514303375371037_2451245531676802   \n",
       "1490545  Facebook   False   243631722382545_4897262587019412   \n",
       "1490554  Facebook   False    280442222854234_980935209471595   \n",
       "1490563  Facebook   False    100066504926057_289477449945750   \n",
       "1490571  Facebook    True   168702849857226_4954507317943398   \n",
       "...           ...     ...                                ...   \n",
       "1491911  Facebook   False   484853931698047_1985596674957091   \n",
       "1491912  Facebook   False  1551818964851566_5183620988337994   \n",
       "1491919  Facebook   False   276064489209861_2206010916215199   \n",
       "1491950  Facebook   False   270043557194515_1003816940483836   \n",
       "1491951  Facebook   False  1436822753305164_3127355824251840   \n",
       "\n",
       "                                                      text        date  \\\n",
       "1490544  nan. TRAITEMENTS INFAILLIBLE CONTRE TOUS LES N...  2022-02-11   \n",
       "1490545  nan. En nous appuyant sur des pratiques durabl...  2022-02-11   \n",
       "1490554  nan. « Le gazon est un non-sens écologique » :...  2022-02-11   \n",
       "1490563  nan. \" Niche parlementaire 2022 de La France i...  2022-02-11   \n",
       "1490571  nan. Soyez la reine des cœurs avec ces deux in...  2022-02-11   \n",
       "...                                                    ...         ...   \n",
       "1491911  Le gouvernement ignore les injonctions du Cons...  2022-02-05   \n",
       "1491912  nan. ❓ 𝗤𝘂𝗶 𝘀𝗼𝗻𝘁 𝗻𝗼𝘀 𝗽𝗮𝘆𝘀𝗮𝗻.𝗻𝗲.𝘀 𝗮𝘀𝘀𝗼𝗰𝗶𝗲́.𝗲.𝘀 ?...  2022-02-05   \n",
       "1491919  nan. Compte rendu de l'interview de Mr Abdelmo...  2022-02-05   \n",
       "1491950  nan. 04/02/2022 - National - LCP \"A Table!\" # ...  2022-02-04   \n",
       "1491951  nan. Témoignage terrible sur les effets des pe...  2022-02-04   \n",
       "\n",
       "        mentioned_names mentioned_ids hashtags           user_id  \\\n",
       "1490544             NaN           NaN      NaN   514303375371037   \n",
       "1490545             NaN           NaN      NaN   243631722382545   \n",
       "1490554             NaN           NaN      NaN   280442222854234   \n",
       "1490563             NaN           NaN      NaN   100066504926057   \n",
       "1490571             NaN           NaN      NaN   168702849857226   \n",
       "...                 ...           ...      ...               ...   \n",
       "1491911             NaN           NaN      NaN   484853931698047   \n",
       "1491912             NaN           NaN      NaN  1551818964851566   \n",
       "1491919             NaN           NaN      NaN   276064489209861   \n",
       "1491950             NaN           NaN      NaN   270043557194515   \n",
       "1491951             NaN           NaN      NaN  1436822753305164   \n",
       "\n",
       "                                        user_account_url  ...  \\\n",
       "1490544  https://www.facebook.com/groups/514303375371037  ...   \n",
       "1490545         https://www.facebook.com/243631722382545  ...   \n",
       "1490554  https://www.facebook.com/groups/280442222854234  ...   \n",
       "1490563         https://www.facebook.com/573296989537352  ...   \n",
       "1490571         https://www.facebook.com/168702849857226  ...   \n",
       "...                                                  ...  ...   \n",
       "1491911         https://www.facebook.com/484853931698047  ...   \n",
       "1491912        https://www.facebook.com/1551818964851566  ...   \n",
       "1491919         https://www.facebook.com/276064489209861  ...   \n",
       "1491950  https://www.facebook.com/groups/270043557194515  ...   \n",
       "1491951        https://www.facebook.com/1436822753305164  ...   \n",
       "\n",
       "        account_publication total_posts ratio_posts yearmonth    account_type  \\\n",
       "1490544               445.0     33984.0    1.309440   2022-02  facebook_group   \n",
       "1490545                11.0       773.0    1.423027   2022-02   facebook_page   \n",
       "1490554               127.0     11224.0    1.131504   2022-02  facebook_group   \n",
       "1490563               110.0      7078.0    1.554111   2022-02   facebook_page   \n",
       "1490571               374.0      1740.0   21.494253   2022-02   facebook_page   \n",
       "...                     ...         ...         ...       ...             ...   \n",
       "1491911                94.0      3084.0    3.047990   2022-02   facebook_page   \n",
       "1491912                11.0       681.0    1.615272   2022-02   facebook_page   \n",
       "1491919               101.0      9567.0    1.055712   2022-02   facebook_page   \n",
       "1491950               134.0     11215.0    1.194828   2022-02  facebook_group   \n",
       "1491951               515.0     11437.0    4.502929   2022-02   facebook_page   \n",
       "\n",
       "               user_screen_name  \\\n",
       "1490544                     NaN   \n",
       "1490545           arcticgardens   \n",
       "1490554                     NaN   \n",
       "1490563     franceinsoumise8003   \n",
       "1490571       SisleyParisFrance   \n",
       "...                         ...   \n",
       "1491911       NotreAffaireATous   \n",
       "1491912          coquelicot.bio   \n",
       "1491919  stimabasfcompodetiapsb   \n",
       "1491950                     NaN   \n",
       "1491951  victimepesticide.ouest   \n",
       "\n",
       "                                              user_name  segm start_segment  \\\n",
       "1490544                          CAUSONS ENTRE AGRONOME  12.0    2021-12-01   \n",
       "1490545                                  Arctic Gardens  12.0    2021-12-01   \n",
       "1490554  Assemblée Populaire de l'Écologie et du Climat  12.0    2021-12-01   \n",
       "1490563     France Insoumise - 80.03  Picardie Maritime  12.0    2021-12-01   \n",
       "1490571                                    Sisley Paris  12.0    2021-12-01   \n",
       "...                                                 ...   ...           ...   \n",
       "1491911                            Notre Affaire à Tous  12.0    2021-12-01   \n",
       "1491912                              Biocoop Coquelicot  12.0    2021-12-01   \n",
       "1491919                       STIMA Tunisie  ستيما تونس  12.0    2021-12-01   \n",
       "1491950      \"Parole.s de Génération.s dans les médias\"  12.0    2021-12-01   \n",
       "1491951  Soutien aux victimes des pesticides de l'Ouest  12.0    2021-12-01   \n",
       "\n",
       "        end_segment  \n",
       "1490544  2022-02-11  \n",
       "1490545  2022-02-11  \n",
       "1490554  2022-02-11  \n",
       "1490563  2022-02-11  \n",
       "1490571  2022-02-11  \n",
       "...             ...  \n",
       "1491911  2022-02-11  \n",
       "1491912  2022-02-11  \n",
       "1491919  2022-02-11  \n",
       "1491950  2022-02-11  \n",
       "1491951  2022-02-11  \n",
       "\n",
       "[230 rows x 25 columns]"
      ]
     },
     "metadata": {},
     "output_type": "display_data"
    },
    {
     "data": {},
     "metadata": {
      "scrapbook": {
       "mime_prefix": "application/papermill.record/",
       "name": "first_fb_account"
      }
     },
     "output_type": "display_data"
    },
    {
     "data": {
      "application/vnd.jupyter.widget-view+json": {
       "model_id": "530802856d344b53a93b167974a0fa48"
      },
      "text/plain": [
       "     platform annoted                   id  \\\n",
       "1     twitter    True  1212156152076787712   \n",
       "3     twitter   False  1212144705628192768   \n",
       "4     twitter   False  1212143182022107136   \n",
       "6     twitter    True  1212139351733350401   \n",
       "9     twitter   False  1212127236154970112   \n",
       "...       ...     ...                  ...   \n",
       "4707  twitter   False  1207974422080114695   \n",
       "4724  twitter   False  1207967307751968768   \n",
       "4725  twitter   False  1207967227741425664   \n",
       "4736  twitter   False  1207961639393337344   \n",
       "4746  twitter    True  1207958215083876354   \n",
       "\n",
       "                                                   text        date  \\\n",
       "1     @coquelicots_ Déjà faudrait il commencer par n...  2019-12-31   \n",
       "3     Chuchoteur 2020 (Journal annuel du Collectif I...  2019-12-31   \n",
       "4     Pesticides: les Coquelicots collent les SDHI! ...  2019-12-31   \n",
       "6     @PICO2935 Donc le spinosad est une \"substance ...  2019-12-31   \n",
       "9     Arrêté anti-pesticides : \"J’invite tous les ma...  2019-12-31   \n",
       "...                                                 ...         ...   \n",
       "4707  Gironde : la mairie de Bègles refuse de retire...  2019-12-20   \n",
       "4724  Journée TCS au lycée agricole de Vendôme, les ...  2019-12-20   \n",
       "4725  Une disposition des plus dogmatique en ligne a...  2019-12-20   \n",
       "4736  @ShoutTwit @TatsuKan @d0cTB @LePoint @GeWoessn...  2019-12-20   \n",
       "4746  @scmarco69 @ErwanGueguen @FDSEA_Finistere @GeW...  2019-12-20   \n",
       "\n",
       "                                        mentioned_names  \\\n",
       "1                                          coquelicots_   \n",
       "3                                          changefrance   \n",
       "4                                          coquelicots_   \n",
       "6                                              pico2935   \n",
       "9                                                   NaN   \n",
       "...                                                 ...   \n",
       "4707                                                NaN   \n",
       "4724                                         fthomastcs   \n",
       "4725  an_afeco|an_devdur|barbarapompili|graziemelchi...   \n",
       "4736        d0ctb|gewoessner|lepoint|shouttwit|tatsukan   \n",
       "4746  coquelicots_|envoyespecial|erwangueguen|fdsea_...   \n",
       "\n",
       "                                          mentioned_ids  \\\n",
       "1                                   1039098468994822146   \n",
       "3                                             603139314   \n",
       "4                                   1039098468994822146   \n",
       "6                                    945243009754587136   \n",
       "9                                                   NaN   \n",
       "...                                                 ...   \n",
       "4707                                                NaN   \n",
       "4724                                         2888343459   \n",
       "4725  978183990346690561|978288954284892161|45433688...   \n",
       "4736  805334514851573760|122253091|8460572|112809920...   \n",
       "4746  1039098468994822146|108561712|1370092723852697...   \n",
       "\n",
       "                         hashtags              user_id  \\\n",
       "1             bioindustriel|lobby   776804948705153025   \n",
       "3                             NaN   705331587941060608   \n",
       "4                             NaN           2312970457   \n",
       "6     flupyradifurone|sulfoxaflor            882404732   \n",
       "9                             NaN            108373619   \n",
       "...                           ...                  ...   \n",
       "4707                          NaN            354912921   \n",
       "4724                          NaN            275451019   \n",
       "4725                     directan  1183763902804430848   \n",
       "4736                          NaN             25582398   \n",
       "4746                          NaN            381027243   \n",
       "\n",
       "                         user_account_url  ... account_publication  \\\n",
       "1          https://twitter.com/fermedupre  ...              1486.0   \n",
       "3                                     NaN  ...               121.0   \n",
       "4                                     NaN  ...              1776.0   \n",
       "6              https://twitter.com/YveCtx  ...              1019.0   \n",
       "9                                     NaN  ...                63.0   \n",
       "...                                   ...  ...                 ...   \n",
       "4707                                  NaN  ...                85.0   \n",
       "4724                                  NaN  ...                41.0   \n",
       "4725                                  NaN  ...                12.0   \n",
       "4736                                  NaN  ...                40.0   \n",
       "4746  https://twitter.com/LesaqueJennifer  ...               341.0   \n",
       "\n",
       "     total_posts ratio_posts yearmonth account_type  user_screen_name  \\\n",
       "1        18206.0    8.162144   2019-12          NaN        fermedupre   \n",
       "3        10447.0    1.158227   2019-12          NaN    SteibelMartine   \n",
       "4        13265.0   13.388617   2019-12          NaN          PHurlaux   \n",
       "6        20578.0    4.951890   2019-12          NaN            YveCtx   \n",
       "9         6083.0    1.035673   2019-12          NaN         ktrinecva   \n",
       "...          ...         ...       ...          ...               ...   \n",
       "4707      6288.0    1.351781   2019-12          NaN   RaphaelSouchier   \n",
       "4724      2308.0    1.776430   2019-12          NaN   Agroperspective   \n",
       "4725      1085.0    1.105991   2019-12          NaN   grandin_laurent   \n",
       "4736      2145.0    1.864802   2019-12          NaN        JeanPaul75   \n",
       "4746     28284.0    1.205629   2019-12          NaN   LesaqueJennifer   \n",
       "\n",
       "                                      user_name  segm start_segment  \\\n",
       "1          Olivier Garnier - Ferme du pré 🚜🌻🐝💉💉   6.0    2019-08-01   \n",
       "3                               STEIBEL MARTINE   6.0    2019-08-01   \n",
       "4                              Philippe Hurlaux   6.0    2019-08-01   \n",
       "6                              Yves Courtaux 🌾🌻   6.0    2019-08-01   \n",
       "9     Coordination M.E.R.V.E.I.L.L.E.S du Monde   6.0    2019-08-01   \n",
       "...                                         ...   ...           ...   \n",
       "4707                           Raphael Souchier   6.0    2019-08-01   \n",
       "4724                  Agro Perspectives - ARAD²   6.0    2019-08-01   \n",
       "4725                            Grandin Laurent   6.0    2019-08-01   \n",
       "4736                          Jean-Paul Krivine   6.0    2019-08-01   \n",
       "4746                   Jennifer #LRI #tokenMeuf   6.0    2019-08-01   \n",
       "\n",
       "     end_segment  \n",
       "1     2020-07-31  \n",
       "3     2020-07-31  \n",
       "4     2020-07-31  \n",
       "6     2020-07-31  \n",
       "9     2020-07-31  \n",
       "...          ...  \n",
       "4707  2020-07-31  \n",
       "4724  2020-07-31  \n",
       "4725  2020-07-31  \n",
       "4736  2020-07-31  \n",
       "4746  2020-07-31  \n",
       "\n",
       "[464 rows x 25 columns]"
      ]
     },
     "metadata": {},
     "output_type": "display_data"
    },
    {
     "data": {},
     "metadata": {
      "scrapbook": {
       "mime_prefix": "application/papermill.record/",
       "name": "first_tw_account"
      }
     },
     "output_type": "display_data"
    },
    {
     "data": {
      "application/papermill.record/text/plain": "45089.0"
     },
     "metadata": {
      "scrapbook": {
       "mime_prefix": "application/papermill.record/",
       "name": "annoted_nb_post"
      }
     },
     "output_type": "display_data"
    },
    {
     "data": {
      "application/papermill.record/text/plain": "135166.0"
     },
     "metadata": {
      "scrapbook": {
       "mime_prefix": "application/papermill.record/",
       "name": "annoted_nb_tw"
      }
     },
     "output_type": "display_data"
    },
    {
     "data": {
      "application/papermill.record/text/plain": "0.4"
     },
     "metadata": {
      "scrapbook": {
       "mime_prefix": "application/papermill.record/",
       "name": "part_of_fb_annoted_account"
      }
     },
     "output_type": "display_data"
    },
    {
     "data": {
      "application/papermill.record/text/plain": "0.2"
     },
     "metadata": {
      "scrapbook": {
       "mime_prefix": "application/papermill.record/",
       "name": "part_of_tw_annoted_account"
      }
     },
     "output_type": "display_data"
    },
    {
     "data": {
      "application/papermill.record/text/plain": "11.1"
     },
     "metadata": {
      "scrapbook": {
       "mime_prefix": "application/papermill.record/",
       "name": "contrib_of_fb_annoted_account"
      }
     },
     "output_type": "display_data"
    },
    {
     "data": {
      "application/papermill.record/text/plain": "10.0"
     },
     "metadata": {
      "scrapbook": {
       "mime_prefix": "application/papermill.record/",
       "name": "contrib_of_tw_annoted_account"
      }
     },
     "output_type": "display_data"
    }
   ],
   "source": [
    "#Total des posts et tweets publiés par les comptes annotés\n",
    "first_fb_account = subsub_fb_account.iloc[0:230]\n",
    "first_tw_account = subsub_tw_account.iloc[0:464]\n",
    "\n",
    "glue(\"first_fb_account\", first_fb_account, display = False)\n",
    "glue(\"first_tw_account\", first_tw_account, display = False)\n",
    "\n",
    "annoted_nb_post = np.sum(first_fb_account[\"account_publication\"])\n",
    "annoted_nb_tw = np.sum(first_tw_account[\"account_publication\"])\n",
    "glue(\"annoted_nb_post\", annoted_nb_post, display = False)\n",
    "glue(\"annoted_nb_tw\", annoted_nb_tw, display = False)\n",
    "\n",
    "part_of_fb_annoted_account = round(len(annoted_fb_account)/len(fb_account)*100,1)\n",
    "part_of_tw_annoted_account = round(len(annoted_tw_account)/len(tw_account)*100,1)\n",
    "glue(\"part_of_fb_annoted_account\", part_of_fb_annoted_account, display = False)\n",
    "glue(\"part_of_tw_annoted_account\", part_of_tw_annoted_account, display = False)\n",
    "\n",
    "\n",
    "contrib_of_fb_annoted_account = round(annoted_nb_post/nombre_de_posts*100, 1)\n",
    "contrib_of_tw_annoted_account = round(annoted_nb_tw/nombre_de_tweets*100, 1)\n",
    "glue(\"contrib_of_fb_annoted_account\", contrib_of_fb_annoted_account, display = False)\n",
    "glue(\"contrib_of_tw_annoted_account\", contrib_of_tw_annoted_account, display = False)"
   ]
  },
  {
   "cell_type": "markdown",
   "id": "7c19f1a6",
   "metadata": {},
   "source": [
    "Au final, Les {glue:text}`nb_fb_annoted_account` comptes Facebook annotés représentent {glue:text}`part_of_fb_annoted_account` % des comptes. Ils sont auteurs de {glue:text}`contrib_of_fb_annoted_account` % des posts du corpus. Les {glue:text}`nb_tw_annoted_account` comptes twitter annotés forment pour leur part {glue:text}`part_of_tw_annoted_account` % des comptes et ont publié {glue:text}`contrib_of_tw_annoted_account`% des tweets du corpus. Ces différentes subdivisions sont illustrées par la figure ci-dessous."
   ]
  },
  {
   "cell_type": "code",
   "execution_count": 14,
   "id": "58ee93a6",
   "metadata": {
    "slideshow": {
     "slide_type": "skip"
    },
    "tags": [
     "remove-input"
    ]
   },
   "outputs": [],
   "source": [
    "import squarify    # pip install squarify (algorithm for treemap)\n",
    "import circlify #!pip install circlify"
   ]
  },
  {
   "cell_type": "code",
   "execution_count": 170,
   "id": "b6c550d1",
   "metadata": {
    "tags": [
     "remove-input"
    ]
   },
   "outputs": [],
   "source": [
    "size_all_corpus = len(dftext.drop_duplicates(subset = [\"id\"]))\n",
    "\n",
    "data2 = [{'id': \"all\", 'name': 'Les corpus Facebook et Twitter', 'datum': size_all_corpus, \"children\" :[\n",
    "         {'id': \"corpus\", 'name': 'Le corpus Facebook', 'datum': nombre_de_posts, \"children\":[\n",
    "             {'id': \"sub_corpus\", \"name\": 'Les posts des comptes ayant au moins 10 publications', \"datum\" : sub_nb_post},\n",
    "          {'id': \"sub_sub_corpus\", \"name\": 'Les posts des comptes ayant au moins 1% de leurs publications sur pesticides', 'datum': onep_sub_nb_post},\n",
    "          {'id': \"annoted_corpus\", \"name\": 'Les posts des comptes facebook annotés', 'datum':annoted_nb_post}\n",
    "         ]},\n",
    "    {'id': \"corpus_tw\", 'name': 'Le corpus Twitter', 'datum': nombre_de_tweets, \"children\" :[\n",
    "             {'id': \"sub_corpus_tw\", \"name\": 'Les tweets des comptes ayant au moins 10 publications', \"datum\" : sub_nb_tweets},\n",
    "          {'id': \"sub_sub_corpus_tw\", \"name\": 'Les tweets des comptes ayant au moins 1% de leurs publications sur pesticides', 'datum': onep_sub_nb_tweets},\n",
    "          {'id': \"annoted_corpus_tw\", \"name\": 'Les tweets des comptes twitter annotés', 'datum':annoted_nb_tw}\n",
    "        ]}\n",
    "]\n",
    "         }]\n",
    "# Compute circle positions thanks to the circlify() function\n",
    "circles2 = circlify.circlify(\n",
    "    data2, \n",
    "    show_enclosure=False\n",
    ")\n"
   ]
  },
  {
   "cell_type": "code",
   "execution_count": 175,
   "id": "90e0ff8d",
   "metadata": {
    "slideshow": {
     "slide_type": "skip"
    },
    "tags": [
     "remove-input"
    ]
   },
   "outputs": [
    {
     "data": {
      "text/plain": [
       "<matplotlib.legend.Legend at 0x7faaf8582ca0>"
      ]
     },
     "execution_count": 175,
     "metadata": {},
     "output_type": "execute_result"
    },
    {
     "data": {
      "image/png": "[encoded data removed]",
      "text/plain": [
       "<Figure size 1008x1008 with 1 Axes>"
      ]
     },
     "metadata": {
      "needs_background": "light"
     },
     "output_type": "display_data"
    }
   ],
   "source": [
    "name_legend = []\n",
    "\n",
    "fig, ax = plt.subplots(figsize=(14,14))\n",
    "\n",
    "# Title\n",
    "fig.suptitle(\"Le poids des tweets et posts facebook publiés par les comptes annotés\", fontsize= 20)\n",
    "\n",
    "# Remove axes\n",
    "ax.axis('off')\n",
    "\n",
    "# Find axis boundaries\n",
    "lim = max(\n",
    "    max(\n",
    "        abs(circle.x) + circle.r,\n",
    "        abs(circle.y) + circle.r,\n",
    "    )\n",
    "    for circle in circles2\n",
    ")\n",
    "plt.xlim(-lim, lim)\n",
    "plt.ylim(-lim, lim)\n",
    "\n",
    "for circle in circles2:\n",
    "    if circle.level == 2 and circle.ex[\"id\"] == \"corpus\":\n",
    "        x, y, r = circle\n",
    "        #print(r*circle.ex[\"datum\"])\n",
    "        ax.add_patch( plt.Circle((x, y+0.5), r, alpha=0.5, linewidth=2, facecolor=\"Orange\", edgecolor=\"black\"))\n",
    "        label = circle.ex[\"name\"]\n",
    "        name_legend.append(label)\n",
    "        plt.annotate(label, (x, y) ,size = 20, xytext = (x-0.25,y+ 0.65))\n",
    "        \n",
    "    elif circle.level == 3 and circle.ex[\"id\"] == \"sub_corpus\":\n",
    "        x, y, r = circle\n",
    "        #print(r*circle.ex[\"datum\"])\n",
    "        ax.add_patch( plt.Circle((x-0.1, y+0.4), r, alpha=1, linewidth=2, color=\"#FF8C00\"))\n",
    "        label = circle.ex[\"name\"]\n",
    "        name_legend.append(label)\n",
    "        #plt.annotate(label, (x,y ) ,size = 20)\n",
    "    \n",
    "    elif circle.level == 3 and circle.ex[\"id\"] == \"sub_sub_corpus\":\n",
    "        x, y, r = circle\n",
    "        #print(r*circle.ex[\"datum\"])\n",
    "        ax.add_patch( plt.Circle((x, y+0.03), r, alpha=0.9, linewidth=2, color=\"Tomato\"))\n",
    "        label = circle.ex[\"name\"]\n",
    "        name_legend.append(label)\n",
    "        #plt.annotate(label, (x,y ) ,size = 20)\n",
    "            \n",
    "    elif circle.level == 3 and circle.ex[\"id\"] == \"annoted_corpus\":\n",
    "        x, y, r = circle\n",
    "        #print(r*circle.ex[\"datum\"])\n",
    "        ax.add_patch( plt.Circle((x+0.15, y-0.15), r, alpha=1, linewidth=2, color=\"OrangeRed\"))\n",
    "        label = circle.ex[\"name\"]\n",
    "        name_legend.append(label)\n",
    "        #plt.annotate(label, (x,y ) ,size = 20)\n",
    "        \n",
    "    elif circle.level == 2 and circle.ex[\"id\"] == \"corpus_tw\":\n",
    "        x, y, r = circle\n",
    "        #print(r*circle.ex[\"datum\"])\n",
    "        ax.add_patch( plt.Circle((x, y+0.3), r, alpha=0.4, linewidth=2, facecolor=\"Plum\", edgecolor=\"black\"))\n",
    "        label = circle.ex[\"name\"]\n",
    "        name_legend.append(label)\n",
    "        plt.annotate(label, (x,y) ,size = 20, xytext = (x,y+ 0.6))\n",
    "        \n",
    "    elif circle.level == 3 and circle.ex[\"id\"] == \"sub_corpus_tw\":\n",
    "        x, y, r = circle\n",
    "        #print(r*circle.ex[\"datum\"])\n",
    "        ax.add_patch( plt.Circle((x-0.2, y+0.1), r, alpha=1, linewidth=2, color=\"#DA70D6\"))\n",
    "        label = circle.ex[\"name\"]\n",
    "        name_legend.append(label)\n",
    "        #plt.annotate(label, (x,y ) ,size = 20)\n",
    "    \n",
    "    elif circle.level == 3 and circle.ex[\"id\"] == \"sub_sub_corpus_tw\":\n",
    "        x, y, r = circle\n",
    "        #print(r*circle.ex[\"datum\"])\n",
    "        ax.add_patch( plt.Circle((x+0.7, y-0.6), r, alpha=0.9, linewidth=2, color=\"#9932CC\"))\n",
    "        label = circle.ex[\"name\"]\n",
    "        name_legend.append(label)\n",
    "        #plt.annotate(label, (x,y ) ,size = 20)\n",
    "            \n",
    "    elif circle.level == 3 and circle.ex[\"id\"] == \"annoted_corpus_tw\":\n",
    "        x, y, r = circle\n",
    "        #print(r*circle.ex[\"datum\"])\n",
    "        ax.add_patch( plt.Circle((x-0.3, y-0.7), r, alpha=1, linewidth=2, color=\"DarkSlateBlue\"))\n",
    "        label = circle.ex[\"name\"]\n",
    "        name_legend.append(label)\n",
    "        #plt.annotate(label, (x,y ) ,size = 20)\n",
    "         \n",
    "                \n",
    "\n",
    "\n",
    "name_legende = [\n",
    "    \"Le corpus de posts facebook\",\n",
    "    \"Le corpus des tweets\", \n",
    "    \"Les posts annotés\",\n",
    "    \"Les posts des comptes ayant au moins 10 publications\",\n",
    "    \"Les posts des comptes ayant au moins 1% de leurs publications sur pesticides\",\n",
    "    \n",
    "    \"Les tweets des comptes ayant au moins 10 publications\",\n",
    "    \"Les tweets des comptes ayant au moins 1% de leurs publications sur pesticides\",\n",
    "    \"Les tweets des comptes annotés\"]\n",
    "\n",
    "plt.legend(name_legend, loc=3, fontsize = 12, ncol = 1)\n"
   ]
  },
  {
   "cell_type": "code",
   "execution_count": 168,
   "id": "6120550a",
   "metadata": {
    "tags": [
     "remove-input"
    ]
   },
   "outputs": [
    {
     "data": {
      "text/plain": [
       "<matplotlib.legend.Legend at 0x7faaf88da160>"
      ]
     },
     "execution_count": 168,
     "metadata": {},
     "output_type": "execute_result"
    },
    {
     "data": {
      "image/png": "[encoded data removed]",
      "text/plain": [
       "<Figure size 1008x1008 with 1 Axes>"
      ]
     },
     "metadata": {
      "needs_background": "light"
     },
     "output_type": "display_data"
    }
   ],
   "source": [
    "size_all_corpus = len(df)\n",
    "\n",
    "data2 = [{'id': \"all\", 'name': 'Les comptes Facebook et Twitter', 'datum': size_all_corpus, \"children\" :[\n",
    "         {'id': \"corpus\", 'name': 'Les comptes Facebook', 'datum': nb_fb_account, \"children\":[\n",
    "             {'id': \"sub_corpus\", \"name\": 'Les comptes ayant au moins 10 publications', \"datum\" : nb_fb_with_10_posts},\n",
    "          {'id': \"sub_sub_corpus\", \"name\": 'Les comptes ayant au moins 1% de leurs publications sur pesticides', 'datum': nb_fb_with_1percent_posts},\n",
    "          {'id': \"annoted_corpus\", \"name\": 'Les comptes facebook annotés', 'datum':nb_fb_annoted_account}\n",
    "         ]},\n",
    "    {'id': \"corpus_tw\", 'name': 'Les comptes Twitter', 'datum': nb_tw_account, \"children\" :[\n",
    "             {'id': \"sub_corpus_tw\", \"name\": 'Les comptes ayant au moins 10 publications', \"datum\" : nb_tw_with_10_posts},\n",
    "          {'id': \"sub_sub_corpus_tw\", \"name\": 'Les comptes ayant au moins 1% de leurs publications sur pesticides', 'datum': nb_tw_with_1percent_posts},\n",
    "          {'id': \"annoted_corpus_tw\", \"name\": 'Les comptes twitter annotés', 'datum':nb_tw_annoted_account}\n",
    "        ]}\n",
    "]\n",
    "         }]\n",
    "# Compute circle positions thanks to the circlify() function\n",
    "circles2 = circlify.circlify(\n",
    "    data2, \n",
    "    show_enclosure=False\n",
    ")\n",
    "\n",
    "name_legend = []\n",
    "\n",
    "fig, ax = plt.subplots(figsize=(14,14))\n",
    "\n",
    "# Title\n",
    "fig.suptitle(\"Le poids des comptes annotés\", fontsize= 20)\n",
    "\n",
    "# Remove axes\n",
    "ax.axis('off')\n",
    "\n",
    "# Find axis boundaries\n",
    "lim = max(\n",
    "    max(\n",
    "        abs(circle.x) + circle.r,\n",
    "        abs(circle.y) + circle.r,\n",
    "    )\n",
    "    for circle in circles2\n",
    ")\n",
    "plt.xlim(-lim, lim)\n",
    "plt.ylim(-lim, lim)\n",
    "\n",
    "for circle in circles2:\n",
    "    if circle.level == 2 and circle.ex[\"id\"] == \"corpus\":\n",
    "        x, y, r = circle\n",
    "        #print(r*circle.ex[\"datum\"])\n",
    "        ax.add_patch( plt.Circle((x, y+0.5), r, alpha=0.5, linewidth=2, facecolor=\"Orange\", edgecolor=\"black\"))\n",
    "        label = circle.ex[\"name\"]\n",
    "        name_legend.append(label)\n",
    "        plt.annotate(label, (x, y) ,size = 20, xytext = (x-0.25,y+ 0.65))\n",
    "        \n",
    "    elif circle.level == 3 and circle.ex[\"id\"] == \"sub_corpus\":\n",
    "        x, y, r = circle\n",
    "        #print(r*circle.ex[\"datum\"])\n",
    "        ax.add_patch( plt.Circle((x-0.1, y+0.4), r, alpha=1, linewidth=2, color=\"#FF8C00\"))\n",
    "        label = circle.ex[\"name\"]\n",
    "        name_legend.append(label)\n",
    "        #plt.annotate(label, (x,y ) ,size = 20)\n",
    "    \n",
    "    elif circle.level == 3 and circle.ex[\"id\"] == \"sub_sub_corpus\":\n",
    "        x, y, r = circle\n",
    "        #print(r*circle.ex[\"datum\"])\n",
    "        ax.add_patch( plt.Circle((x+0.1, y+0.06), r, alpha=0.9, linewidth=2, color=\"Tomato\"))\n",
    "        label = circle.ex[\"name\"]\n",
    "        name_legend.append(label)\n",
    "        #plt.annotate(label, (x,y ) ,size = 20)\n",
    "    elif circle.level == 3 and circle.ex[\"id\"] == \"annoted_corpus\":\n",
    "        x, y, r = circle\n",
    "        #print(r*circle.ex[\"datum\"])\n",
    "        ax.add_patch( plt.Circle((x+0.2, y), r, alpha=1, linewidth=2, color=\"OrangeRed\"))\n",
    "        label = circle.ex[\"name\"]\n",
    "        name_legend.append(label)\n",
    "        #plt.annotate(label, (x,y ) ,size = 20)\n",
    "        \n",
    "    elif circle.level == 2 and circle.ex[\"id\"] == \"corpus_tw\":\n",
    "        x, y, r = circle\n",
    "        #print(r*circle.ex[\"datum\"])\n",
    "        ax.add_patch( plt.Circle((x-0.05, y+0.05), r, alpha=0.4, linewidth=2, facecolor=\"Plum\", edgecolor=\"black\"))\n",
    "        label = circle.ex[\"name\"]\n",
    "        name_legend.append(label)\n",
    "        plt.annotate(label, (x,y) ,size = 20, xytext = (x-0.3,y+ 0.55))\n",
    "        \n",
    "    elif circle.level == 3 and circle.ex[\"id\"] == \"sub_corpus_tw\":\n",
    "        x, y, r = circle\n",
    "        #print(r*circle.ex[\"datum\"])\n",
    "        ax.add_patch( plt.Circle((x-0.15, y), r, alpha=1, linewidth=2, color=\"#DA70D6\"))\n",
    "        label = circle.ex[\"name\"]\n",
    "        name_legend.append(label)\n",
    "        #plt.annotate(label, (x,y ) ,size = 20)\n",
    "    \n",
    "    elif circle.level == 3 and circle.ex[\"id\"] == \"sub_sub_corpus_tw\":\n",
    "        x, y, r = circle\n",
    "        #print(r*circle.ex[\"datum\"])\n",
    "        ax.add_patch( plt.Circle((x+0.85, y-0.75), r, alpha=0.9, linewidth=2, color=\"#9932CC\"))\n",
    "        label = circle.ex[\"name\"]\n",
    "        name_legend.append(label)\n",
    "        #plt.annotate(label, (x,y ) ,size = 20)\n",
    "            \n",
    "    elif circle.level == 3 and circle.ex[\"id\"] == \"annoted_corpus_tw\":\n",
    "        x, y, r = circle\n",
    "        #print(r*circle.ex[\"datum\"])\n",
    "        ax.add_patch( plt.Circle((x+0.8, y-0.7), r, alpha=1, linewidth=2, color=\"DarkSlateBlue\"))\n",
    "        label = circle.ex[\"name\"]\n",
    "        name_legend.append(label)\n",
    "        #plt.annotate(label, (x,y ) ,size = 20)\n",
    "        \n",
    "    \n",
    "                \n",
    "\n",
    "\n",
    "name_legende = [\n",
    "    \"Le corpus de posts facebook\",\n",
    "    \"Le corpus des tweets\", \n",
    "    \"Les posts annotés\",\n",
    "    \"Les posts des comptes ayant au moins 10 publications\",\n",
    "    \"Les posts des comptes ayant au moins 1% de leurs publications sur pesticides\",\n",
    "    \n",
    "    \"Les tweets des comptes ayant au moins 10 publications\",\n",
    "    \"Les tweets des comptes ayant au moins 1% de leurs publications sur pesticides\",\n",
    "    \"Les tweets des comptes annotés\"]\n",
    "\n",
    "plt.legend(name_legend, loc=3, fontsize = 12, ncol = 1)\n",
    "\n"
   ]
  },
  {
   "cell_type": "code",
   "execution_count": null,
   "id": "9ae95a88",
   "metadata": {},
   "outputs": [],
   "source": []
  }
 ],
 "metadata": {
  "celltoolbar": "Tags",
  "hide_input": false,
  "kernelspec": {
   "display_name": "analyse_tweets",
   "language": "python",
   "name": "analyse_tweets"
  },
  "language_info": {
   "codemirror_mode": {
    "name": "ipython",
    "version": 3
   },
   "file_extension": ".py",
   "mimetype": "text/x-python",
   "name": "python",
   "nbconvert_exporter": "python",
   "pygments_lexer": "ipython3",
   "version": "3.9.7"
  }
 },
 "nbformat": 4,
 "nbformat_minor": 5
}
