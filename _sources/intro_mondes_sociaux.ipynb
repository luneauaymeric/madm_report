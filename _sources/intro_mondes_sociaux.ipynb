{
 "cells": [
  {
   "cell_type": "code",
   "execution_count": null,
   "id": "eb4f087d-917e-4795-b015-5563bad171f3",
   "metadata": {
    "slideshow": {
     "slide_type": "skip"
    },
    "tags": [
     "remove-input"
    ]
   },
   "outputs": [],
   "source": [
    "import pandas as pd\n",
    "import os\n",
    "import numpy as np\n",
    "import seaborn as sns\n",
    "import matplotlib\n",
    "import matplotlib.pyplot as plt\n",
    "import markdown as md\n",
    "from myst_nb import glue\n"
   ]
  },
  {
   "cell_type": "code",
   "execution_count": 4,
   "id": "3471fc1f",
   "metadata": {},
   "outputs": [
    {
     "data": {
      "text/html": [
       "<style>\n",
       ".rendered_html p {font-size: 12pt;\n",
       "   line-height: 135%;\n",
       "   margin: 0;\n",
       "   text-align: justify;\n",
       "    }\n",
       "</style>\n"
      ],
      "text/plain": [
       "<IPython.core.display.HTML object>"
      ]
     },
     "metadata": {},
     "output_type": "display_data"
    }
   ],
   "source": [
    "%%html\n",
    "<style>\n",
    ".rendered_html p {font-size: 12pt;\n",
    "   line-height: 135%;\n",
    "   margin: 0;\n",
    "   text-align: justify;\n",
    "    }\n",
    "</style>"
   ]
  },
  {
   "cell_type": "code",
   "execution_count": null,
   "id": "015fec04-d055-417a-8329-35c08937864e",
   "metadata": {
    "slideshow": {
     "slide_type": "skip"
    },
    "tags": [
     "remove-input",
     "remove-output"
    ]
   },
   "outputs": [],
   "source": [
    "current_directory = os.getcwd()\n",
    "print(\"Current directory : \", current_directory)\n",
    "\n",
    "aymeric =  \"/home/aymeric/python-scripts/anses_medialab/datas/\" #aymeric\n",
    "jp = '~/Dropbox/Mac/Desktop/CRD Anses/all3/' # Jean Philippe\n",
    "jp_index = '~/Dropbox/Mac/Desktop/CRD Anses/code/indexation_results/' # Jean Philippe index\n",
    "\n",
    "if 'aymeric' in current_directory:\n",
    "    path_base = aymeric\n",
    "    index=f\"{path_base}index_allall_domainsexhaustive.csv\"\n",
    "elif 'Mac' in current_directory:\n",
    "    path_base = jp\n",
    "    index=f'{jp_index}index_allall_domainsexhaustive.csv'\n",
    "elif 'd:/Projects' in current_directory:\n",
    "    path_base = \"d:/Projects/Medialab/\"\n",
    "    index=f\"{path_base}index_allall_domainsexhaustive.csv\"\n",
    "\n",
    "print(\"Path base : \", path_base)"
   ]
  },
  {
   "cell_type": "code",
   "execution_count": null,
   "id": "513e81cd-9e59-4aad-ac89-b3eff1e60de3",
   "metadata": {
    "slideshow": {
     "slide_type": "skip"
    },
    "tags": [
     "remove-input",
     "remove-output"
    ]
   },
   "outputs": [],
   "source": [
    "# Chargement des données \n",
    "\n",
    "## Les fichiers utilisés ici sont localisé sur le drive partagé à cette adresse: \n",
    "#https://drive.google.com/drive/u/0/folders/1OibfVrSKmbNg-JgEprdKYhVCLGuwSxWd\n",
    "\n",
    "#Le fichier avec les posts facebook et les tweets plus les métadonnées concernant les comptes annotés:\n",
    "# https://drive.google.com/file/d/1G3L0XCqQHHnvyDtAmFZN6lqsSTnsboTI/view?usp=sharing\n",
    "dftext = pd.read_csv(f'{path_base}tweets_and_posts_with_annotated_account.csv', sep = \",\", doublequote=True, \n",
    "                    dtype={\"user_id\":str, \"id\":str})\n",
    "\n",
    "#Le fichier des comptes twitter et facebook (contient les comptes annotés et non annotés):\n",
    "#https://drive.google.com/file/d/1oY2FZrLq7n2He2xhEIFm0wSiGbTEXM6l/view?usp=sharing\n",
    "df = pd.read_csv(f'/home/aymeric/python-scripts/anses_medialab/datas/all_annotated_account.csv', sep = \",\",\n",
    "          dtype={\"user_id\":str})\n",
    "\n",
    "\n",
    "fb_account = df.loc[(df[\"platform\"] == \"Facebook\") & (df[\"annoted\"] == True)].reset_index()\n",
    "tw_account = df.loc[(df[\"platform\"] == \"twitter\") & (df[\"annoted\"] == True)].reset_index()\n"
   ]
  },
  {
   "cell_type": "code",
   "execution_count": null,
   "id": "09021de1",
   "metadata": {
    "tags": [
     "remove-input"
    ]
   },
   "outputs": [],
   "source": [
    "nb_fb_annoted_account = len(df.loc[(df[\"platform\"] == \"Facebook\") & (df[\"annoted\"] == True)]) #nombre de pages et groupes facebook annotés\n",
    "nb_tw_annoted_account = len(df.loc[(df[\"platform\"] == \"twitter\") & (df[\"annoted\"] == True)]) #nombre de comptes twitter annotés\n"
   ]
  },
  {
   "cell_type": "code",
   "execution_count": null,
   "id": "c734356e",
   "metadata": {
    "tags": [
     "remove-input"
    ]
   },
   "outputs": [],
   "source": [
    "#Facebook\n",
    "nombre_de_posts = len(dftext.loc[(dftext[\"platform\"] == \"Facebook\")].drop_duplicates(subset = [\"id\"]))\n",
    "glue(\"nombre_de_posts\", nombre_de_posts, display = False)\n",
    "\n",
    "nb_group = len(dftext.loc[(dftext[\"platform\"] == \"Facebook\") & (dftext[\"account_type\"] ==\"facebook_group\")].drop_duplicates(subset = [\"user_id\"])) #Nombre de groupes fb\n",
    "nb_page = len(dftext.loc[(dftext[\"platform\"] == \"Facebook\") & (dftext[\"account_type\"] ==\"facebook_page\")].drop_duplicates(subset = [\"user_id\"])) #Nombre de pages fb\n",
    "nb_fb_account = nb_page + nb_group #Nombre total de sources fb\n",
    "#nb_fb_account = len(dftext.loc[(dftext[\"platform\"] == \"Facebook\")].drop_duplicates(subset = [\"user_id\"])) # Nombre total de comptes twitter\n",
    "\n",
    "glue(\"nombre_de_posts\", nombre_de_posts, display = False)\n",
    "glue(\"nb_group\", nb_group, display = False)\n",
    "glue(\"nb_page\", nb_page, display = False)\n",
    "glue(\"nb_fb_account\", nb_fb_account, display = False)\n",
    "\n",
    "## twitter\n",
    "nombre_de_tweets = len(dftext.loc[(dftext[\"platform\"] == \"twitter\")].drop_duplicates(subset = [\"id\"]))\n",
    "nb_tw_account = len(dftext.loc[(dftext[\"platform\"] == \"twitter\")].drop_duplicates(subset = [\"user_id\"])) # Nombre total de comptes twitter\n",
    "\n",
    "glue(\"nombre_de_tweets\", nombre_de_tweets, display = False)\n",
    "glue(\"nb_tw_account\", nb_tw_account, display = False)\n",
    "\n"
   ]
  },
  {
   "cell_type": "markdown",
   "id": "4ad660bc",
   "metadata": {},
   "source": [
    "# Les mondes sociaux de la controverse\n",
    "\n",
    "Le corpus Twitter\" est composé de {glue:text}`nombre_de_tweets` tweets publiés par {glue:text}`nb_tw_account`. Le \"corpus Facebook\" contient quant à lui {glue:}`nombre_de_post` publications produites par {glue:text}`nb_fb_account` comptes, dont {glue:text}`nb_page` pages et {glue:text}`nb_group`. Afin d'identifier les groupes engagés dans les débats autours des pesticides sur Twitter et Facebook, nous avons décris \"manuellement\" {glue:text}`nb_fb_annoted_account` groupes et pages facebook ainsi que {glue:text}`nb_tw_annoted_account` Twitter. Dans les paragraphes qui suivent, nous revenons tout d'abord sur la procédure mise en place pour sélectionner les comptes que nous avons annotés, puis nous présentons la méthode de classification des comptes. Nous terminons enfin par une courte analyse descriptive du codage réalisé.\n"
   ]
  },
  {
   "cell_type": "code",
   "execution_count": null,
   "id": "6385339c",
   "metadata": {},
   "outputs": [],
   "source": []
  }
 ],
 "metadata": {
  "celltoolbar": "Tags",
  "hide_input": false,
  "kernelspec": {
   "display_name": "analyse_tweets",
   "language": "python",
   "name": "analyse_tweets"
  },
  "language_info": {
   "codemirror_mode": {
    "name": "ipython",
    "version": 3
   },
   "file_extension": ".py",
   "mimetype": "text/x-python",
   "name": "python",
   "nbconvert_exporter": "python",
   "pygments_lexer": "ipython3",
   "version": "3.9.7"
  }
 },
 "nbformat": 4,
 "nbformat_minor": 5
}
