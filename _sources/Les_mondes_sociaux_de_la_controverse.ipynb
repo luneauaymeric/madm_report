{
 "cells": [
  {
   "cell_type": "code",
   "execution_count": null,
   "id": "eb4f087d-917e-4795-b015-5563bad171f3",
   "metadata": {
    "slideshow": {
     "slide_type": "skip"
    },
    "tags": [
     "remove-input"
    ]
   },
   "outputs": [],
   "source": [
    "import pandas as pd\n",
    "import os\n",
    "import numpy as np\n",
    "import seaborn as sns\n",
    "import matplotlib\n",
    "import matplotlib.pyplot as plt\n",
    "import markdown as md\n",
    "#import bamboolib\n"
   ]
  },
  {
   "cell_type": "code",
   "execution_count": null,
   "id": "015fec04-d055-417a-8329-35c08937864e",
   "metadata": {
    "slideshow": {
     "slide_type": "skip"
    },
    "tags": [
     "remove-input",
     "remove-output"
    ]
   },
   "outputs": [],
   "source": [
    "current_directory = os.getcwd()\n",
    "print(\"Current directory : \", current_directory)\n",
    "\n",
    "aymeric =  \"/home/aymeric/python-scripts/anses_medialab/datas/\" #aymeric\n",
    "jp = '~/Dropbox/Mac/Desktop/CRD Anses/all3/' # Jean Philippe\n",
    "jp_index = '~/Dropbox/Mac/Desktop/CRD Anses/code/indexation_results/' # Jean Philippe index\n",
    "\n",
    "if 'aymeric' in current_directory:\n",
    "    path_base = aymeric\n",
    "    index=f\"{path_base}index_allall_domainsexhaustive.csv\"\n",
    "elif 'Mac' in current_directory:\n",
    "    path_base = jp\n",
    "    index=f'{jp_index}index_allall_domainsexhaustive.csv'\n",
    "elif 'd:/Projects' in current_directory:\n",
    "    path_base = \"d:/Projects/Medialab/\"\n",
    "    index=f\"{path_base}index_allall_domainsexhaustive.csv\"\n",
    "\n",
    "print(\"Path base : \", path_base)"
   ]
  },
  {
   "cell_type": "code",
   "execution_count": null,
   "id": "bbeba3dc",
   "metadata": {
    "slideshow": {
     "slide_type": "skip"
    },
    "tags": [
     "remove-input",
     "remove-output"
    ]
   },
   "outputs": [],
   "source": [
    "# Chargement des données et nettoyage des données\n",
    "\n",
    "## Les fichiers utilisés ici sont localisé sur le drive partagé à cette adresse: \n",
    "#https://drive.google.com/drive/u/0/folders/1OibfVrSKmbNg-JgEprdKYhVCLGuwSxWd\n",
    "\n",
    "#Le fichier avec les posts facebook et les tweets plus les métadonnées concernant les comptes annotés:\n",
    "# https://drive.google.com/file/d/1G3L0XCqQHHnvyDtAmFZN6lqsSTnsboTI/view?usp=sharing\n",
    "dftext = pd.read_csv(f'{path_base}tweets_and_posts_with_annotated_account.csv', sep = \",\", doublequote=True)\n",
    "\n",
    "#Le fichier des comptes twitter et facebook (contient les comptes annotés et non annotés):\n",
    "#https://drive.google.com/file/d/1oY2FZrLq7n2He2xhEIFm0wSiGbTEXM6l/view?usp=sharing\n",
    "df = pd.read_csv(f'{path_base}all_annotated_account.csv', sep = \",\")\n"
   ]
  },
  {
   "cell_type": "markdown",
   "id": "18ee16c6",
   "metadata": {
    "slideshow": {
     "slide_type": "slide"
    }
   },
   "source": [
    "# L'annotation des comptes\n",
    "\n",
    "L'annotation des comptes, c'est-à-dire leur description, s'est faite en renseignant une dizaine de variables. Certaines variables proviennent de catégories choisies par les propriétaires des comptes -- on peut parler de catégories indigènes--, tandis que d'autres proviennent de nos propres catégorisations.\n",
    "\n",
    "Par exemple, si on se rend dans la section \"à propos\" de la page facebook <a href=\"https://www.facebook.com/CampagneGlyphosate83/about\">\"Campagne Glyphosate 83\"</a>, on peut lire dans la rubrique \"général\", sous le nombre de personnes \"aimant la page\" et le nombre d'abonnés, qu'elle est définie comme une \"cause\". Cette étiquette correspond à la \"catégorie\" que toute personne créant une page facebook doit obligatoirement renseignée. Une page peut appartenir au maximum à trois catégories (<a href=\"https://www.facebook.com/pages/creation?ref_type=comet_home\">voir \"créer une page facebook\"</a>). En revanche, ce champ n'existe pas pour les groupes. Il n'existe pas non plus sur Twitter d'équivalents exacts aux catégories proposées par Facebook. On utilisera à la place les hashtags utilisés par auteur.trices dans la description de leur compte.\n",
    "\n",
    "De notre côté, nous avons qualifié la \"Campagne Glyphosate 83\" comme étant un mouvement social de lutte contre les pesticides et plus particluièrement le glyphosate. En tant que mouvement social, nous avons par ailleurs classé la \"Campagne Glyphosate 83\" parmi \"Les mondes des causes collectices\". Nous avons utilisés le même jeu de variables et de modalités pour décrire les pages, les groupes et les comptes twitter. Cette qualification prend en compte quatre types d'attribut:\n",
    "\n",
    "- Le premier attribut dit si la page, le groupe<a href=\"#note1\" id=\"note1ref\"><sup>1</sup></a>  ou le compte twitter représente une personne ou une organisation. Lorsque c'est une personne, nous précisons lorsque c'est possible, s'il s'agit d'un homme ou d'une femme.\n",
    "\n",
    "- Le second attribut vise à classer les comptes en fonction du **\"rôle\"** qu'ils endossent. Autrement dit, au nom de quoi ou de qui une page, un groupe ou un compte twitter s'expriment-ils ? Est-ce au nom d'un mouvement social ou d'une instituation, comme journaliste, en tant qu'agriculteur.trice ou personnalité politque ?\n",
    "\n",
    "- Le deuxième attribut est plus transparent (dans son intitulé). Il concerne la **thématique** des pages, groupes et comptes Twitter: dénoncent-ils l'utilisation des pesticides ? Défendent-ils au contraire l'agriculture conventionnelle ? S'agit-il d'un mouvement de reconnaissances de victimes ?\n",
    "\n",
    "- Enfin le quatrième attribut propose de qualifier les **mondes** auxquels les pages, groupes et comptes observés semblent appartenir. Cette qualification s'appuie sur la définition au préalable du rôle. Ainsi, nous avons considéré que toutes les pages qualifiées de \"mouvement social\" ou de \"contre-mouvement social\"<a href=\"#note2\" id=\"note2ref\"><sup>2</sup></a> appartenaient aux \"mondes des causes collectives\". Une page, un groupe ou un compte peut appartenir au maximum à deux \"mondes\". Une agricultrice qui manifeste une appartenance à un quelconque mouvement social sera classée à la fois dans \"les mondes agricoles\" et dans \"les mondes des causes collectives\".\n",
    "\n",
    "\n",
    "Le \"rôle\", les \"mondes\" et la \"thématique\" ont permi de synthétiser un premier codage extensif. \"Extensif\" au sens où les catégories étaient créée au fur et à mesure de l'exploration des pages, des groupes et des comptes. Nous nous sommes par ailleurs appuyé uniquement sur les éléments de description<a href=\"#note3\" id=\"note3ref\"><sup>3</sup></a>. Ces variables ne disent donc rien du contenu des publications.\n",
    "\n",
    "\n",
    "\n",
    "\n",
    "<a id=\"note1\" href=\"#note1ref\"><sup>1</sup></a> Dans la suite du document, les termes de \"page\" et \"groupe\" font exclusivement référence aux \"pages et groupes Facebook\"\n",
    "\n",
    "<a id=\"note2\" href=\"#note2ref\"><sup>2</sup></a> La catégorie de \"contre-mouvement sociale\", appelée de cette façon en référence à Snow et Benford, sert à qualifier les pages, groupes ou comptes créés en réaction à des mouvements tels que \"Générations fututres\", \"Nous voulons des coquelicots\" ou \"Greenpeace\". Comme exemple de contre-mouvements sociaux, on peut citer \"Écologie et rationalisme\" ou \"Notre futur dans les champs\".\n",
    "\n",
    "<a id=\"note3\" href=\"#note3ref\"><sup>3</sup></a> Dans le cas de Twitter, les données collectées à l'aide de minet contiennent une colonne nommée \"user_description\" correspondant à la phrase de présentation qui est affichée, lorsqu'elle existe, sous l'avatar et le pseudonyme de l'utilisateur.trice. Dans le cas de Facebook, les éléments de descriptions ne font pas partie du corpus de données récupérées à partir de CrowTangle. Cela suppose donc de visiter manuellement chaque compte pour accéder à son \"à propos\" et ses éléments de description."
   ]
  },
  {
   "cell_type": "markdown",
   "id": "4eae6196",
   "metadata": {
    "slideshow": {
     "slide_type": "subslide"
    }
   },
   "source": [
    "![images/process.png](images/process.png)"
   ]
  },
  {
   "cell_type": "markdown",
   "id": "f1de2bde",
   "metadata": {
    "slideshow": {
     "slide_type": "subslide"
    }
   },
   "source": [
    "![images/description_compte_page_group.png](images/description_compte_page_group.png)"
   ]
  },
  {
   "cell_type": "code",
   "execution_count": null,
   "id": "df33c6c1",
   "metadata": {
    "slideshow": {
     "slide_type": "skip"
    },
    "tags": [
     "remove-input"
    ]
   },
   "outputs": [],
   "source": [
    "import plotly.graph_objects as go\n",
    "from plotly.subplots import make_subplots\n",
    "import plotly.express as px\n",
    "\n",
    "d = df.drop_duplicates(subset=[\"user_id\", \"User_world\"]).dropna(subset=['User_world'])\n",
    "#d[\"count_user\"]= d.groupby(['User_world'])['platform'].transform('count')\n",
    "\n",
    "\n",
    "fig = px.treemap(d, path=['platform','User_world'],color='User_world', branchvalues = \"total\")\n",
    "fig\n"
   ]
  },
  {
   "cell_type": "code",
   "execution_count": null,
   "id": "a87c7b22",
   "metadata": {
    "slideshow": {
     "slide_type": "subslide"
    },
    "tags": [
     "remove-input"
    ]
   },
   "outputs": [],
   "source": [
    "fig = px.treemap(df.drop_duplicates(subset=[\"user_id\",\"User_world\", \"Logics\"]).dropna(subset=[\"User_world\",'Logics']), path=[\"platform\", \"User_world\",'Logics'], color='Logics')\n",
    "fig"
   ]
  },
  {
   "cell_type": "markdown",
   "id": "cf24c496",
   "metadata": {
    "slideshow": {
     "slide_type": "slide"
    }
   },
   "source": [
    "## Visualisation de la série temporelle"
   ]
  },
  {
   "cell_type": "code",
   "execution_count": null,
   "id": "b8b889a6",
   "metadata": {
    "slideshow": {
     "slide_type": "skip"
    },
    "tags": [
     "remove-input"
    ]
   },
   "outputs": [],
   "source": [
    "d = df.dropna(subset=[\"User_world\"])\n"
   ]
  },
  {
   "cell_type": "code",
   "execution_count": null,
   "id": "255583a9",
   "metadata": {
    "slideshow": {
     "slide_type": "skip"
    },
    "tags": [
     "remove-input",
     "remove-output"
    ]
   },
   "outputs": [],
   "source": [
    "liste_world = [x for x in d[\"User_world\"].unique()]\n",
    "smoothing_scale= 90\n",
    "context_scale=182\n",
    "freq_threshold=100\n",
    "liste_world"
   ]
  },
  {
   "cell_type": "code",
   "execution_count": null,
   "id": "3d4a3e99",
   "metadata": {
    "slideshow": {
     "slide_type": "subslide"
    },
    "tags": [
     "remove-input"
    ]
   },
   "outputs": [],
   "source": [
    "liste_world= [\n",
    " 'Les mondes des causes collectives',\n",
    " 'Les mondes agricoles',\n",
    " \"Les mondes de l'information\",\n",
    " 'Les mondes politiques']\n",
    "\n",
    "\n",
    "\n",
    "plt.rcParams[\"figure.figsize\"] = (30,40)\n",
    "fig, axes = plt.subplots(len(liste_world), 2)\n",
    "#fig.suptitle('A single ax with no data')\n",
    "\n",
    "for i, x in enumerate(liste_world):\n",
    "    #print(i, x)\n",
    "    df_time = dftext.loc[(dftext[\"platform\"]==\"twitter\") & (dftext[\"User_world\"]==x)].groupby([\"date\"]).agg(world_count = (\"id\",\"size\")).reset_index()\n",
    "    #first data is smoothed over one week\n",
    "    df_time['count_roll']= df_time['world_count'].rolling(smoothing_scale).mean()\n",
    "    \n",
    "    df_time['date'] = pd.to_datetime(df_time['date'], infer_datetime_format=True)\n",
    "    \n",
    "    sns.lineplot(ax=axes[i,0], x=\"date\", y=\"count_roll\", data=df_time)\n",
    "    \n",
    "    axes[i,0].set_title(f'Tweets published by authors belonging to {x}', fontsize = 20)\n",
    "    axes[i,0].set_xlabel(\"Date\", fontsize = 14)\n",
    "    axes[i,0].set_ylabel(f\"Rolling average over {smoothing_scale} days\", fontsize = 14)\n",
    "    \n",
    "    \n",
    "    df_time = dftext.loc[(dftext[\"platform\"]==\"Facebook\") & (dftext[\"User_world\"]==x)].groupby([\"date\"]).agg(world_count = (\"id\",\"size\")).reset_index()\n",
    "    #first data is smoothed over one week\n",
    "    df_time['count_roll']= df_time['world_count'].rolling(smoothing_scale).mean()\n",
    "    \n",
    "    df_time['date'] = pd.to_datetime(df_time['date'], infer_datetime_format=True)\n",
    "    \n",
    "    sns.lineplot(ax=axes[i,1], x=\"date\", y=\"count_roll\", data=df_time, color='r')\n",
    "    \n",
    "    axes[i,1].set_title(f'Posts published by authors belonging to {x}', fontsize = 20)\n",
    "    axes[i,1].set_xlabel(\"Date\", fontsize = 14)\n",
    "    axes[i,1].set_ylabel(f\"Rolling average over {smoothing_scale} days\", fontsize = 14)\n",
    "    \n",
    "    axes[i,0].legend(labels=[\"Twitter\"])\n",
    "    axes[i,1].legend(labels=[\"Facebook\"])"
   ]
  },
  {
   "cell_type": "code",
   "execution_count": null,
   "id": "52a86867",
   "metadata": {
    "slideshow": {
     "slide_type": "skip"
    },
    "tags": [
     "remove-input"
    ]
   },
   "outputs": [],
   "source": [
    "liste_logics = [x for x in d[\"Logics\"].unique()]\n"
   ]
  },
  {
   "cell_type": "code",
   "execution_count": null,
   "id": "86df079f",
   "metadata": {
    "slideshow": {
     "slide_type": "subslide"
    },
    "tags": [
     "remove-input"
    ]
   },
   "outputs": [],
   "source": [
    "\n",
    "d = df.dropna(subset=[\"Synthetic_logics\"])\n",
    "liste_logics = [\n",
    " 'Positivistes',\n",
    " 'Défense des agricultures conventionnelles',\n",
    " 'Défense des agricultures non-conventionnelles',\n",
    " 'Lutte contre les pesticides']\n",
    "liste_logics = ['Positivistic_logic',\n",
    " 'Pesticide_free_agriculture']\n",
    "\n",
    "fig, axes = plt.subplots(2, len(liste_logics))\n",
    "\n",
    "for i, x in enumerate(liste_logics):\n",
    "    df_time = dftext.loc[(dftext[\"platform\"]==\"twitter\") & (dftext[\"Synthetic_logics\"]==x)].groupby([\"date\"]).agg(world_count = (\"user_id\",\"size\")).reset_index()\n",
    "    #first data is smoothed over one week\n",
    "    df_time['count_roll']= df_time['world_count'].rolling(smoothing_scale).mean()\n",
    "    df_time['ave'] =  (df_time[\"world_count\"] / df_time[\"world_count\"].max())#.rolling(shortmean).mean()\n",
    "    df_time['roll' ] = df_time[\"ave\"].rolling(smoothing_scale).mean()\n",
    "    df_time['date'] = pd.to_datetime(df_time['date'], infer_datetime_format=True)\n",
    "    \n",
    "    sns.lineplot(ax=axes[0,i], x=\"date\", y=\"count_roll\", data=df_time)\n",
    "    \n",
    "    axes[0,i].set_title(f'{x}', fontsize=20)\n",
    "    axes[0,i].set_xlabel(\"Date\", fontsize = 14)\n",
    "    axes[0,i].set_ylabel(f\"Rolling average over {smoothing_scale} days\", fontsize = 14)\n",
    "    \n",
    "    \n",
    "    df_time = dftext.loc[(dftext[\"platform\"]==\"Facebook\") & (dftext[\"Synthetic_logics\"]==x)].groupby([\"date\"]).agg(world_count = (\"user_id\",\"size\")).reset_index()\n",
    "    #first data is smoothed over one week\n",
    "    df_time['count_roll']= df_time['world_count'].rolling(smoothing_scale).mean()\n",
    "    df_time['ave'] =  (df_time[\"world_count\"] / df_time[\"world_count\"].max())#.rolling(shortmean).mean()\n",
    "    df_time['roll' ] = df_time[\"ave\"].rolling(smoothing_scale).mean()\n",
    "    df_time['date'] = pd.to_datetime(df_time['date'], infer_datetime_format=True)\n",
    "    \n",
    "    sns.lineplot(ax=axes[1,i], x=\"date\", y=\"count_roll\", data=df_time, color='r')\n",
    "    \n",
    "    axes[1,i].set_title(f'{x}', fontsize = 20)\n",
    "    axes[1,i].set_xlabel(\"Date\", fontsize = 14)\n",
    "    axes[1,i].set_ylabel(f\"Rolling average over {smoothing_scale} days\", fontsize = 14)\n",
    "    \n",
    "    axes[0,i].legend(labels=[\"Twitter\"])\n",
    "    axes[1,i].legend(labels=[\"Facebook\"])\n",
    "\n",
    "fig.set_size_inches(20, 20)\n",
    "\n",
    "fig.savefig('logic_temporality.png', dpi=300)"
   ]
  },
  {
   "cell_type": "markdown",
   "id": "37c12d60",
   "metadata": {
    "slideshow": {
     "slide_type": "slide"
    }
   },
   "source": [
    "## Les mondes sociaux et la périodisation de la controverse"
   ]
  },
  {
   "cell_type": "code",
   "execution_count": null,
   "id": "8ddc7a8a",
   "metadata": {
    "slideshow": {
     "slide_type": "skip"
    },
    "tags": [
     "remove-input"
    ]
   },
   "outputs": [],
   "source": [
    "def ranked_element(data, which, top_rank):\n",
    "    \"\"\"\n",
    "    data = the dataframe\n",
    "    which = a string ; the variable that we want to rank and display on bump chart\n",
    "    top_rank = an integer ; the rank that values should reach at least one time to be part of bump chart\n",
    "    \"\"\"\n",
    "    \n",
    "    df = (\n",
    "        data\n",
    "          .value_counts([\"platform\", which, 'segm', 'start_segment'])\n",
    "          .groupby([\"platform\", \"segm\"])\n",
    "          .rank(\"first\", ascending=False)\n",
    "          .rename(\"rank\")\n",
    "          .sort_index()\n",
    "          .reset_index()\n",
    "         )\n",
    "    \n",
    "    if top_rank is not None :\n",
    "        df.loc[df[\"rank\"] > top_rank, f\"top_rank_{top_rank}\"] = 0\n",
    "        df.loc[df[\"rank\"] < top_rank, f\"top_rank_{top_rank}\"] = 1\n",
    "        df[\"count_rank\"] = df.groupby([\"platform\",which])[f\"top_rank_{top_rank}\"].transform(\"sum\")\n",
    "        df = df.loc[df[\"count_rank\"] >= 1]\n",
    "    else:\n",
    "        pass\n",
    "    \n",
    "    ## Compute correlation matrix for each origin\n",
    "    \n",
    "    \n",
    "    return df\n",
    "    \n"
   ]
  },
  {
   "cell_type": "code",
   "execution_count": null,
   "id": "14ae008b",
   "metadata": {
    "slideshow": {
     "slide_type": "skip"
    },
    "tags": [
     "remove-input"
    ]
   },
   "outputs": [],
   "source": [
    "def bump_chart(data, which):\n",
    "    \n",
    "    \"\"\"\n",
    "    data = the dataframe\n",
    "    \"\"\"\n",
    "    \n",
    "    list_plaform = [\"twitter\", \"Facebook\"]\n",
    "\n",
    "\n",
    "    for n, x in enumerate(list_origin):\n",
    "    \n",
    "        df = data.loc[data[\"platform\"]== x]\n",
    "        n_top_ranked = 10\n",
    "        top_sources = df[df[\"segm\"] == df[\"segm\"].max()].nsmallest(n_top_ranked, \"rank\")\n",
    "\n",
    "        fig, ax = plt.subplots(figsize=(16, 10), subplot_kw=dict(ylim=(0.5, 0.5 + n_top_ranked)))\n",
    "        \n",
    "        fig.suptitle(x, fontsize=16)\n",
    "\n",
    "\n",
    "        ax.xaxis.set_major_locator(MultipleLocator(1))\n",
    "        ax.yaxis.set_major_locator(MultipleLocator(1))\n",
    "\n",
    "        yax2 = ax.secondary_yaxis(\"right\")\n",
    "        yax2.yaxis.set_major_locator(FixedLocator(top_sources[\"rank\"].to_list()))\n",
    "        yax2.yaxis.set_major_formatter(FixedFormatter(top_sources[which].to_list()))\n",
    "\n",
    "\n",
    "        for i, j in df.groupby([which]):\n",
    "            ax = plt.plot(\"segm\", \"rank\", \"o-\", data=j)\n",
    "            \n",
    "\n",
    "        plt.gca().invert_yaxis()\n",
    "    \n",
    "    return fig"
   ]
  },
  {
   "cell_type": "code",
   "execution_count": null,
   "id": "ade2d028",
   "metadata": {
    "slideshow": {
     "slide_type": "skip"
    },
    "tags": [
     "remove-input"
    ]
   },
   "outputs": [],
   "source": [
    "def interactive_bump_chart(data, which, cluster):\n",
    "\n",
    "    if cluster is None :\n",
    "        pass\n",
    "    else:\n",
    "        data[\"cluster\"] = pd.to_numeric(data[\"cluster\"])\n",
    "        data = data.loc[data[\"cluster\"] == cluster]\n",
    "        \n",
    "    fig = px.line(data, x=\"start_segment\", y=\"rank\", color = which, facet_row=\"platform\").update_traces(mode='markers+lines')\n",
    "    fig['layout']['yaxis']['autorange'] = \"reversed\"\n",
    "    \n",
    "    \n",
    "\n",
    "    fig.show()\n",
    "    #fig.write_html(\"images/bumpchart2.html\")"
   ]
  },
  {
   "cell_type": "code",
   "execution_count": null,
   "id": "cd9237e6",
   "metadata": {
    "slideshow": {
     "slide_type": "slide"
    },
    "tags": [
     "remove-input"
    ]
   },
   "outputs": [],
   "source": [
    "d = dftext.dropna(subset=[\"Synthetic_logics\"])\n",
    "df_rank = ranked_element(data = d, which=\"Synthetic_logics\", top_rank= None)\n",
    "bump = interactive_bump_chart(data = df_rank, which = \"Synthetic_logics\", cluster = None)"
   ]
  },
  {
   "cell_type": "code",
   "execution_count": null,
   "id": "2305b699",
   "metadata": {
    "tags": [
     "remove-input"
    ]
   },
   "outputs": [],
   "source": [
    "d = dftext.dropna(subset=[\"User_world\"])\n",
    "df_rank = ranked_element(data = d, which=\"User_world\", top_rank= None)\n",
    "bump = interactive_bump_chart(data = df_rank, which = \"User_world\", cluster = None)"
   ]
  }
 ],
 "metadata": {
  "celltoolbar": "Tags",
  "hide_input": false,
  "kernelspec": {
   "display_name": "analyse_tweets",
   "language": "python",
   "name": "analyse_tweets"
  },
  "language_info": {
   "codemirror_mode": {
    "name": "ipython",
    "version": 3
   },
   "file_extension": ".py",
   "mimetype": "text/x-python",
   "name": "python",
   "nbconvert_exporter": "python",
   "pygments_lexer": "ipython3",
   "version": "3.9.7"
  }
 },
 "nbformat": 4,
 "nbformat_minor": 5
}
