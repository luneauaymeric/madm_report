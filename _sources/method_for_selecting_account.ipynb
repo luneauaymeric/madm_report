{
 "cells": [
  {
   "cell_type": "code",
   "execution_count": null,
   "id": "eb4f087d-917e-4795-b015-5563bad171f3",
   "metadata": {
    "slideshow": {
     "slide_type": "skip"
    },
    "tags": [
     "remove-input"
    ]
   },
   "outputs": [],
   "source": [
    "import pandas as pd\n",
    "import os\n",
    "import numpy as np\n",
    "import seaborn as sns\n",
    "import matplotlib\n",
    "import matplotlib.pyplot as plt\n",
    "import markdown as md\n",
    "from myst_nb import glue\n"
   ]
  },
  {
   "cell_type": "code",
   "execution_count": 4,
   "id": "31cb0a4f",
   "metadata": {
    "tags": [
     "remove-input"
    ]
   },
   "outputs": [
    {
     "data": {
      "text/html": [
       "<style>\n",
       ".rendered_html p {font-size: 12pt;\n",
       "   line-height: 135%;\n",
       "   margin: 0;\n",
       "   text-align: justify;\n",
       "    }\n",
       "</style>\n"
      ],
      "text/plain": [
       "<IPython.core.display.HTML object>"
      ]
     },
     "metadata": {},
     "output_type": "display_data"
    }
   ],
   "source": [
    "%%html\n",
    "<style>\n",
    ".rendered_html p {font-size: 12pt;\n",
    "   line-height: 135%;\n",
    "   margin: 0;\n",
    "   text-align: justify;\n",
    "    }\n",
    "</style>"
   ]
  },
  {
   "cell_type": "code",
   "execution_count": null,
   "id": "015fec04-d055-417a-8329-35c08937864e",
   "metadata": {
    "slideshow": {
     "slide_type": "skip"
    },
    "tags": [
     "remove-input",
     "remove-output"
    ]
   },
   "outputs": [],
   "source": [
    "current_directory = os.getcwd()\n",
    "print(\"Current directory : \", current_directory)\n",
    "\n",
    "aymeric =  \"/home/aymeric/python-scripts/anses_medialab/datas/\" #aymeric\n",
    "jp = '~/Dropbox/Mac/Desktop/CRD Anses/all3/' # Jean Philippe\n",
    "jp_index = '~/Dropbox/Mac/Desktop/CRD Anses/code/indexation_results/' # Jean Philippe index\n",
    "\n",
    "if 'aymeric' in current_directory:\n",
    "    path_base = aymeric\n",
    "    index=f\"{path_base}index_allall_domainsexhaustive.csv\"\n",
    "elif 'Mac' in current_directory:\n",
    "    path_base = jp\n",
    "    index=f'{jp_index}index_allall_domainsexhaustive.csv'\n",
    "elif 'd:/Projects' in current_directory:\n",
    "    path_base = \"d:/Projects/Medialab/\"\n",
    "    index=f\"{path_base}index_allall_domainsexhaustive.csv\"\n",
    "\n",
    "print(\"Path base : \", path_base)"
   ]
  },
  {
   "cell_type": "code",
   "execution_count": null,
   "id": "513e81cd-9e59-4aad-ac89-b3eff1e60de3",
   "metadata": {
    "slideshow": {
     "slide_type": "skip"
    },
    "tags": [
     "remove-input",
     "remove-output"
    ]
   },
   "outputs": [],
   "source": [
    "# Chargement des données \n",
    "\n",
    "## Les fichiers utilisés ici sont localisé sur le drive partagé à cette adresse: \n",
    "#https://drive.google.com/drive/u/0/folders/1OibfVrSKmbNg-JgEprdKYhVCLGuwSxWd\n",
    "\n",
    "#Le fichier avec les posts facebook et les tweets plus les métadonnées concernant les comptes annotés:\n",
    "# https://drive.google.com/file/d/1G3L0XCqQHHnvyDtAmFZN6lqsSTnsboTI/view?usp=sharing\n",
    "dftext = pd.read_csv(f'{path_base}tweets_and_posts_with_annotated_account.csv', sep = \",\", doublequote=True, \n",
    "                    dtype={\"user_id\":str, \"id\":str})\n",
    "\n",
    "#Le fichier des comptes twitter et facebook (contient les comptes annotés et non annotés):\n",
    "#https://drive.google.com/file/d/1oY2FZrLq7n2He2xhEIFm0wSiGbTEXM6l/view?usp=sharing\n",
    "df = pd.read_csv(f'/home/aymeric/python-scripts/anses_medialab/datas/all_annotated_account.csv', sep = \",\",\n",
    "          dtype={\"user_id\":str})\n",
    "\n",
    "\n",
    "fb_account = df.loc[(df[\"platform\"] == \"Facebook\") & (df[\"annoted\"] == True)].reset_index()\n",
    "tw_account = df.loc[(df[\"platform\"] == \"twitter\") & (df[\"annoted\"] == True)].reset_index()\n"
   ]
  },
  {
   "cell_type": "code",
   "execution_count": null,
   "id": "09021de1",
   "metadata": {
    "tags": [
     "remove-input"
    ]
   },
   "outputs": [],
   "source": [
    "nb_fb_annoted_account = len(df.loc[(df[\"platform\"] == \"Facebook\") & (df[\"annoted\"] == True)]) #nombre de pages et groupes facebook annotés\n",
    "nb_tw_annoted_account = len(df.loc[(df[\"platform\"] == \"twitter\") & (df[\"annoted\"] == True)]) #nombre de comptes twitter annotés\n"
   ]
  },
  {
   "cell_type": "code",
   "execution_count": null,
   "id": "c734356e",
   "metadata": {
    "tags": [
     "remove-input"
    ]
   },
   "outputs": [],
   "source": [
    "#Facebook\n",
    "nombre_de_posts = len(dftext.loc[(dftext[\"platform\"] == \"Facebook\")].drop_duplicates(subset = [\"id\"]))\n",
    "glue(\"nombre_de_posts\", nombre_de_posts, display = False)\n",
    "\n",
    "nb_group = len(dftext.loc[(dftext[\"platform\"] == \"Facebook\") & (dftext[\"account_type\"] ==\"facebook_group\")].drop_duplicates(subset = [\"user_id\"])) #Nombre de groupes fb\n",
    "nb_page = len(dftext.loc[(dftext[\"platform\"] == \"Facebook\") & (dftext[\"account_type\"] ==\"facebook_page\")].drop_duplicates(subset = [\"user_id\"])) #Nombre de pages fb\n",
    "nb_fb_account = nb_page + nb_group #Nombre total de sources fb\n",
    "#nb_fb_account = len(dftext.loc[(dftext[\"platform\"] == \"Facebook\")].drop_duplicates(subset = [\"user_id\"])) # Nombre total de comptes twitter\n",
    "\n",
    "glue(\"nombre_de_posts\", nombre_de_posts, display = False)\n",
    "glue(\"nb_group\", nb_group, display = False)\n",
    "glue(\"nb_page\", nb_page, display = False)\n",
    "glue(\"nb_fb_account\", nb_fb_account, display = False)\n",
    "\n",
    "## twitter\n",
    "nombre_de_tweets = len(dftext.loc[(dftext[\"platform\"] == \"twitter\")].drop_duplicates(subset = [\"id\"]))\n",
    "nb_tw_account = len(dftext.loc[(dftext[\"platform\"] == \"twitter\")].drop_duplicates(subset = [\"user_id\"])) # Nombre total de comptes twitter\n",
    "\n",
    "glue(\"nombre_de_tweets\", nombre_de_tweets, display = False)\n",
    "glue(\"nb_tw_account\", nb_tw_account, display = False)\n",
    "\n"
   ]
  },
  {
   "cell_type": "code",
   "execution_count": null,
   "id": "58c5f1a9",
   "metadata": {
    "tags": [
     "remove-input"
    ]
   },
   "outputs": [],
   "source": [
    "##sources twitter avec 10 publications ou plus\n",
    "sub_tw_account = dftext.loc[(dftext[\"platform\"] == \"twitter\") & (dftext[\"account_publication\"] >= 10)].drop_duplicates(subset = [\"user_id\"])\n",
    "\n",
    "#Nombre de comptes twitter avec 10 publications ou plus\n",
    "nb_tw_with_10_posts = len(sub_tw_account)\n",
    "\n",
    "\n",
    "glue(\"sub_tw_account\", sub_tw_account, display = False)\n",
    "glue(\"nb_tw_with_10_posts\", nb_tw_with_10_posts, display = False)\n",
    "\n",
    "##sources fb avec 10 publications ou plus\n",
    "sub_fb_account = dftext.loc[(dftext[\"platform\"] == \"Facebook\") & (dftext[\"account_publication\"] >= 10)].drop_duplicates(subset = [\"user_id\"])\n",
    "glue(\"sub_fb_account\", sub_fb_account, display = False)\n",
    "\n",
    "\n",
    "#Nombre de groupes fb avec 10 publications ou plus\n",
    "nb_group_with_10_posts = len(sub_fb_account.loc[sub_fb_account[\"account_type\"] == \"facebook_group\"]) \n",
    "glue(\"nb_group_with_10_posts\", nb_group_with_10_posts, display = False)\n",
    "\n",
    "#Nombre de pages fb avec 10 publications ou plus\n",
    "nb_page_with_10_posts = len(sub_fb_account.loc[sub_fb_account[\"account_type\"] == \"facebook_page\"])\n",
    "glue(\"nb_page_with_10_posts\", nb_page_with_10_posts, display = False)\n",
    "\n",
    "#Nombre de sources fb avec 10 publications ou plus\n",
    "nb_fb_with_10_posts = nb_page_with_10_posts + nb_group_with_10_posts\n",
    "glue(\"nb_fb_with_10_posts\", nb_fb_with_10_posts, display = False)\n",
    "\n",
    "#Total des posts et tweets publiés par les comptes ayant 10 publications ou plus\n",
    "sub_nb_post = len(dftext.loc[(dftext[\"platform\"] == \"Facebook\") & (dftext[\"account_publication\"] >= 10)].drop_duplicates(subset = [\"id\"]))\n",
    "sub_nb_tweets = len(dftext.loc[(dftext[\"platform\"] == \"twitter\") & (dftext[\"account_publication\"] >= 10)].drop_duplicates(subset = [\"id\"]))\n",
    "glue(\"sub_nb_post\", sub_nb_post, display = False)\n",
    "glue(\"sub_nb_post\", sub_nb_tweets, display = False)\n",
    "\n",
    "part_of_fb_account_with_10_post = round(nb_fb_with_10_posts/nb_fb_account*100, 1)\n",
    "part_of_tw_account_with_10_tweets = round(nb_tw_with_10_posts/nb_tw_account*100, 1)\n",
    "glue(\"part_of_fb_account_with_10_post\", part_of_fb_account_with_10_post, display = False)\n",
    "glue(\"part_of_tw_account_with_10_tweets\", part_of_tw_account_with_10_tweets, display = False)\n",
    "\n",
    "contrib_of_fb_account_with_10 = round(sub_nb_post/nombre_de_posts*100, 1)\n",
    "contrib_of_tw_account_with_10 = round(sub_nb_tweets/nombre_de_tweets*100, 1)\n",
    "glue(\"contrib_of_fb_account_with_10\", contrib_of_fb_account_with_10, display = False)\n",
    "glue(\"contrib_of_fb_account_with_10\", contrib_of_fb_account_with_10, display = False)\n"
   ]
  },
  {
   "cell_type": "code",
   "execution_count": null,
   "id": "834c4933-70e8-47e6-8edd-bcd2e1bc6e8d",
   "metadata": {
    "slideshow": {
     "slide_type": "skip"
    },
    "tags": [
     "remove-input"
    ]
   },
   "outputs": [],
   "source": [
    "\n",
    "## Sources twitter avec 10 publications ou plus et 1% de publications sur pesticides\n",
    "subsub_tw_account = sub_tw_account.loc[(sub_tw_account[\"ratio_posts\"] >= 1) & (sub_tw_account[\"ratio_posts\"] <= 100)].drop_duplicates(subset =[\"user_id\"])\n",
    "glue(\"subsub_tw_account\", subsub_tw_account, display = False)\n",
    "\n",
    "\n",
    "#Nombre de sources twitter avec 10 publications ou plus et 1% de publications sur pesticides\n",
    "nb_tw_with_1percent_posts = len(subsub_tw_account)\n",
    "glue(\"nb_tw_with_1percent_posts\", nb_tw_with_1percent_posts, display = False)\n",
    "\n",
    "\n",
    "## Sources fb avec 10 publications ou plus et 1% de publications sur pesticides\n",
    "subsub_fb_account = sub_fb_account.loc[sub_fb_account[\"ratio_posts\"] >= 1].drop_duplicates(subset =[\"user_id\"])\n",
    "glue(\"subsub_fb_account\", subsub_fb_account, display = False)\n",
    "\n",
    "#Nombre de groupes fb avec 10 publications ou plus et 1% de publications sur pesticides\n",
    "nb_group_with_1percent_posts = len(subsub_fb_account.loc[subsub_fb_account[\"account_type\"] == \"facebook_group\"])\n",
    "glue(\"nb_group_with_1percent_posts\", nb_group_with_1percent_posts, display = False)\n",
    "\n",
    "#Nombre de pages fb avec 10 publications ou plus et 1% de publications sur pesticides\n",
    "nb_page_with_1percent_posts = len(subsub_fb_account.loc[subsub_fb_account[\"account_type\"] == \"facebook_page\"])\n",
    "glue(\"nb_group_with_1percent_posts\", nb_group_with_1percent_posts, display = False)\n",
    "\n",
    "#Nombre de sources fb avec 10 publications ou plus et 1% de publications sur pesticides\n",
    "nb_fb_with_1percent_posts = nb_page_with_1percent_posts + nb_group_with_1percent_posts\n",
    "glue(\"nb_fb_with_1percent_posts\", nb_fb_with_1percent_posts, display = False)\n",
    "\n",
    "\n",
    "#Total des posts et tweets ubliés par les comptes ayant au moins 1% de publications sur pesticides\n",
    "onep_sub_nb_post =len(dftext.loc[(dftext[\"platform\"] == \"Facebook\") & (dftext[\"ratio_posts\"] >= 1) & (dftext[\"ratio_posts\"] <= 100)].drop_duplicates(subset = [\"id\"]))\n",
    "onep_sub_nb_tweets = len(dftext.loc[(dftext[\"platform\"] == \"twitter\") & (dftext[\"ratio_posts\"] >= 1) & (dftext[\"ratio_posts\"] <= 100)].drop_duplicates(subset = [\"id\"]))\n",
    "glue(\"onep_sub_nb_post\", onep_sub_nb_post, display = False)\n",
    "glue(\"onep_sub_nb_tweets\", onep_sub_nb_tweets, display = False)\n",
    "\n",
    "part_of_fb_account_with_1percent = round(nb_fb_with_1percent_posts/nb_fb_account*100, 1)\n",
    "part_of_tw_account_with_1percent = round(nb_tw_with_1percent_posts/nb_tw_account*100, 1)\n",
    "glue(\"part_of_fb_account_with_1percent\", part_of_fb_account_with_1percent, display = False)\n",
    "glue(\"part_of_tw_account_with_1percent\", part_of_fb_account_with_1percent, display = False)\n",
    "\n",
    "contrib_of_fb_account_with_10 = round(onep_sub_nb_post/nombre_de_posts*100, 1)\n",
    "contrib_of_tw_account_with_10 = round(onep_sub_nb_tweets/nombre_de_tweets*100, 1)\n",
    "glue(\"contrib_of_fb_account_with_10\", contrib_of_fb_account_with_10, display = False)\n",
    "glue(\"contrib_of_tw_account_with_10\", contrib_of_tw_account_with_10, display = False)"
   ]
  },
  {
   "cell_type": "code",
   "execution_count": null,
   "id": "096f2911",
   "metadata": {
    "scrolled": true,
    "tags": [
     "remove-input"
    ]
   },
   "outputs": [],
   "source": [
    "#import bamboolib\n",
    "annoted_fb_account = df.loc[(df[\"platform\"] == \"Facebook\") & (df[\"annoted\"] == True)].reset_index()\n",
    "annoted_tw_account = df.loc[(df[\"platform\"] == \"twitter\") & (df[\"annoted\"] == True)].reset_index()\n",
    "glue(\"annoted_fb_account\", annoted_fb_account, display = False)\n",
    "glue(\"annoted_tw_account\", annoted_tw_account, display = False)\n",
    "\n",
    "fb_account = df.loc[(df[\"platform\"] == \"Facebook\")].reset_index()\n",
    "tw_account = df.loc[(df[\"platform\"] == \"twitter\")].reset_index()\n",
    "\n",
    "glue(\"fb_account\", fb_account, display = False)\n",
    "glue(\"tw_account\", tw_account, display = False)\n",
    "\n",
    "glypho_campagne = fb_account[\"user_name\"].iloc[2]\n",
    "glypho_campagne_nb_pest = fb_account[\"account_publication\"].iloc[2]\n",
    "glypho_campagne_nb = int(fb_account[\"total_posts\"].iloc[2])\n",
    "glypho_campagne_ratio = round(fb_account[\"ratio_posts\"].iloc[2], 1)\n",
    "\n",
    "glue(\"glypho_campagne\", glypho_campagne, display = False)\n",
    "glue(\"glypho_campagne_nb_pest\", glypho_campagne_nb_pest, display = False)\n",
    "glue(\"glypho_campagne_nb\", glypho_campagne_nb, display = False)\n",
    "glue(\"glypho_campagne_ratio\", glypho_campagne_ratio, display = False)\n",
    "\n",
    "alternatiba = fb_account[\"user_name\"].iloc[2214]\n",
    "alternatiba_nb_pest = fb_account[\"account_publication\"].iloc[2214]\n",
    "alternatiba_nb = fb_account[\"total_posts\"].iloc[2214]\n",
    "alternatiba_ratio = round(fb_account[\"ratio_posts\"].iloc[2214], 1)\n",
    "\n",
    "glue(\"alternatiba\", alternatiba, display = False)\n",
    "glue(\"alternatiba_nb_pest\", alternatiba_nb_pest, display = False)\n",
    "glue(\"alternatiba_nb\", alternatiba_nb, display = False)\n",
    "glue(\"alternatiba_ratio\", alternatiba_ratio, display = False)\n",
    "\n",
    "rebellion = fb_account[\"user_name\"].iloc[500]\n",
    "rebellion_nb_pest = fb_account[\"account_publication\"].iloc[500]\n",
    "rebellion_nb = int(fb_account[\"total_posts\"].iloc[500])\n",
    "rebellion_ratio = round(fb_account[\"ratio_posts\"].iloc[500], 1)\n",
    "\n",
    "glue(\"rebellion\", rebellion, display = False)\n",
    "glue(\"rebellion_nb_pest\", rebellion_nb_pest, display = False)\n",
    "glue(\"rebellion_nb\", rebellion_nb, display = False)\n",
    "glue(\"rebellion_ratio\", rebellion_ratio, display = False)\n",
    "\n"
   ]
  },
  {
   "cell_type": "markdown",
   "id": "4ad660bc",
   "metadata": {},
   "source": [
    "# La sélection des comptes à annoter\n",
    "\n",
    "Les analyses ci-après portent uniquement sur les {glue:text}`nb_fb_annoted_account` groupes et pages facebook ainsi que les {glue:text}`nb_tw_annoted_account` comptes twitter que nous avons \"annoté\" à la main. Les comptes ont été choisis de la façon suivante :\n",
    "\n",
    "1. Pour chacun des corpus (twitter et facebook) de départ, nous avons conservé les comptes avec dix publications ou plus sur le sujet des pesticides. Cela représente un premier échantillon de {glue:text}`nb_page_with_10_posts` pages et {glue:text}`nb_group_with_10_posts` groupes Facebook, soit {glue:text}`nb_fb_with_10_posts` comptes. Cela représente {glue:text}`part_of_fb_account_with_10_post` % du nombre total de comptes. Ils sont à l'origine de {glue:text}`contrib_of_fb_account_with_10` % des posts du corpus. Concernant le corpus twitter, on a {glue:text}`nb_tw_with_10_posts` comptes ayant publié dix tweets ou plus, soit {glue:text}`part_of_tw_account_with_10_tweets` % des comptes. Ces {glue:text}`nb_tw_with_10_posts` comptes ont publiés {glue:text}`contrib_of_tw_account_with_10` % des tweets du corpus ({glue:text}`sub_nb_tweets` sur {glue:text}`nombre_de_tweets`).\n",
    "\n",
    "2. À partir de ce premier sous-ensemble, nous avons calculé un ratio donnant pour chaque compte la part des publications relatives aux pesticides (celles incluses dans le corpus) sur le total de ses publications. Ce faisant, on obtient dans le cas du corpus Facebook un second sous-ensemble composé de {glue:text}`nb_page_with_1percent_posts` pages et {glue:text}`nb_group_with_1percent_posts` groupes, soit {glue:text}`nb_fb_with_1percent_posts` comptes. Cela représente {glue:text}`part_of_fb_account_with_1percent` % des comptes, leurs contributions constituant {glue:text}`contrib_of_fb_account_with_10` % du corpus Facebook. Dans le cas du corpus Twitter, les comptes qui ont 1% ou plus de leurs tweets sur les pesticides sont {glue:text}`onep_sub_nb_tweets`, soit {glue:text}`part_of_tw_account_with_1percent` %. Ils sont à l'origine de {glue:text}`contrib_of_tw_account_with_10` % des tweets du corpus.\n",
    "\n",
    "3. Enfin, après avoir triés les tableaux de données en fonction du ratio \"publication sur les pesticides/total des publications\" par ordre décroissant, nous avons annotés les {glue:text}`nb_fb_annoted_account` premiers groupes et pages Facebook, et les {glue:text}`nb_tw_annoted_account` premiers comptes Twitter. Illustrons cette dernière avec trois cas concrets (pris du corpus Facebook) :\n",
    "\n",
    "> Cas 1: La page {glue:text}`glypho_campagne` a publié {glue:text}`glypho_campagne_nb_pest` posts relatifs à la question des pesticides sur un total de {glue:text}`glypho_campagne_nb`. On a donc un ratio de {glue:text}`glypho_campagne_ratio` %. Il fait par ailleurs partie du 2e plus gros contributeur du corpus. Il sera donc annoté.\n",
    "\n",
    "> Cas 2 : La page {glue:text}`alternatiba` a publié {glue:text}`alternatiba_nb_pest` posts relatifs à la question des pesticides sur un total de {glue:text}`alternatiba_nb`. On a donc un ratio de {glue:text}`alternatiba_ratio` %. Le ratio est inférieur à 1 %, la page ne sera pas annotée.\n",
    "\n",
    "> Cas 3 : La page {glue:text}`rebellion` a publié {glue:text}`rebellion_nb_pest` posts relatifs à la question des pesticides sur un total de {glue:text}`rebellion_nb`. On a donc un ratio de {glue:text}`rebellion_ratio` %. Bien que le ratio soit supérieur à 1 %, la page n'est que la cinq cent unième contributrice du corpus. Elle ne sera pas annotée."
   ]
  },
  {
   "cell_type": "code",
   "execution_count": null,
   "id": "77837625",
   "metadata": {
    "slideshow": {
     "slide_type": "skip"
    },
    "tags": [
     "remove-input"
    ]
   },
   "outputs": [],
   "source": [
    "#Total des posts et tweets publiés par les comptes annotés\n",
    "first_fb_account = subsub_fb_account.iloc[0:230]\n",
    "first_tw_account = subsub_tw_account.iloc[0:464]\n",
    "\n",
    "glue(\"first_fb_account\", first_fb_account, display = False)\n",
    "glue(\"first_tw_account\", first_tw_account, display = False)\n",
    "\n",
    "annoted_nb_post = np.sum(first_fb_account[\"account_publication\"])\n",
    "annoted_nb_tw = np.sum(first_tw_account[\"account_publication\"])\n",
    "glue(\"annoted_nb_post\", annoted_nb_post, display = False)\n",
    "glue(\"annoted_nb_tw\", annoted_nb_tw, display = False)\n",
    "\n",
    "part_of_fb_annoted_account = round(len(annoted_fb_account)/len(fb_account)*100,1)\n",
    "part_of_tw_annoted_account = round(len(annoted_tw_account)/len(tw_account)*100,1)\n",
    "glue(\"part_of_fb_annoted_account\", part_of_fb_annoted_account, display = False)\n",
    "glue(\"part_of_tw_annoted_account\", part_of_tw_annoted_account, display = False)\n",
    "\n",
    "\n",
    "contrib_of_fb_annoted_account = round(annoted_nb_post/nombre_de_posts*100, 1)\n",
    "contrib_of_tw_annoted_account = round(annoted_nb_tw/nombre_de_tweets*100, 1)\n",
    "glue(\"contrib_of_fb_annoted_account\", contrib_of_fb_annoted_account, display = False)\n",
    "glue(\"contrib_of_tw_annoted_account\", contrib_of_tw_annoted_account, display = False)"
   ]
  },
  {
   "cell_type": "markdown",
   "id": "7c19f1a6",
   "metadata": {},
   "source": [
    "Au final, Les {glue:text}`nb_fb_annoted_account` comptes Facebook annotés représentent {glue:text}`part_of_fb_annoted_account` % des comptes. Ils sont auteurs de {glue:text}`contrib_of_fb_annoted_account` % des posts du corpus. Les {glue:text}`nb_tw_annoted_account` comptes twitter annotés forment pour leur part {glue:text}`part_of_tw_annoted_account` % des comptes et ont publié {glue:text}`contrib_of_tw_annoted_account`% des tweets du corpus. Ces différentes subdivisions sont illustrées par la figure ci-dessous."
   ]
  },
  {
   "cell_type": "code",
   "execution_count": null,
   "id": "58ee93a6",
   "metadata": {
    "slideshow": {
     "slide_type": "skip"
    },
    "tags": [
     "remove-input"
    ]
   },
   "outputs": [],
   "source": [
    "import squarify    # pip install squarify (algorithm for treemap)\n",
    "import circlify #!pip install circlify"
   ]
  },
  {
   "cell_type": "code",
   "execution_count": null,
   "id": "b6c550d1",
   "metadata": {
    "tags": [
     "remove-input"
    ]
   },
   "outputs": [],
   "source": [
    "size_all_corpus = len(dftext.drop_duplicates(subset = [\"id\"]))\n",
    "\n",
    "data2 = [{'id': \"all\", 'name': 'Les corpus Facebook et Twitter', 'datum': size_all_corpus, \"children\" :[\n",
    "         {'id': \"corpus\", 'name': 'Le corpus Facebook', 'datum': nombre_de_posts, \"children\":[\n",
    "             {'id': \"sub_corpus\", \"name\": 'Les posts des comptes ayant au moins 10 publications', \"datum\" : sub_nb_post},\n",
    "          {'id': \"sub_sub_corpus\", \"name\": 'Les posts des comptes ayant au moins 1% de leurs publications sur pesticides', 'datum': onep_sub_nb_post},\n",
    "          {'id': \"annoted_corpus\", \"name\": 'Les posts des comptes facebook annotés', 'datum':annoted_nb_post}\n",
    "         ]},\n",
    "    {'id': \"corpus_tw\", 'name': 'Le corpus Twitter', 'datum': nombre_de_tweets, \"children\" :[\n",
    "             {'id': \"sub_corpus_tw\", \"name\": 'Les tweets des comptes ayant au moins 10 publications', \"datum\" : sub_nb_tweets},\n",
    "          {'id': \"sub_sub_corpus_tw\", \"name\": 'Les tweets des comptes ayant au moins 1% de leurs publications sur pesticides', 'datum': onep_sub_nb_tweets},\n",
    "          {'id': \"annoted_corpus_tw\", \"name\": 'Les tweets des comptes twitter annotés', 'datum':annoted_nb_tw}\n",
    "        ]}\n",
    "]\n",
    "         }]\n",
    "# Compute circle positions thanks to the circlify() function\n",
    "circles2 = circlify.circlify(\n",
    "    data2, \n",
    "    show_enclosure=False\n",
    ")\n"
   ]
  },
  {
   "cell_type": "code",
   "execution_count": null,
   "id": "90e0ff8d",
   "metadata": {
    "slideshow": {
     "slide_type": "skip"
    },
    "tags": [
     "remove-input"
    ]
   },
   "outputs": [],
   "source": [
    "name_legend = []\n",
    "\n",
    "fig, ax = plt.subplots(figsize=(14,14))\n",
    "\n",
    "# Title\n",
    "fig.suptitle(\"Le poids des tweets et posts facebook publiés par les comptes annotés\", fontsize= 20)\n",
    "\n",
    "# Remove axes\n",
    "ax.axis('off')\n",
    "\n",
    "# Find axis boundaries\n",
    "lim = max(\n",
    "    max(\n",
    "        abs(circle.x) + circle.r,\n",
    "        abs(circle.y) + circle.r,\n",
    "    )\n",
    "    for circle in circles2\n",
    ")\n",
    "plt.xlim(-lim, lim)\n",
    "plt.ylim(-lim, lim)\n",
    "\n",
    "for circle in circles2:\n",
    "    if circle.level == 2 and circle.ex[\"id\"] == \"corpus\":\n",
    "        x, y, r = circle\n",
    "        #print(r*circle.ex[\"datum\"])\n",
    "        ax.add_patch( plt.Circle((x, y+0.5), r, alpha=0.5, linewidth=2, facecolor=\"Orange\", edgecolor=\"black\"))\n",
    "        label = circle.ex[\"name\"]\n",
    "        name_legend.append(label)\n",
    "        plt.annotate(label, (x, y) ,size = 20, xytext = (x-0.25,y+ 0.65))\n",
    "        \n",
    "    elif circle.level == 3 and circle.ex[\"id\"] == \"sub_corpus\":\n",
    "        x, y, r = circle\n",
    "        #print(r*circle.ex[\"datum\"])\n",
    "        ax.add_patch( plt.Circle((x-0.1, y+0.4), r, alpha=1, linewidth=2, color=\"#FF8C00\"))\n",
    "        label = circle.ex[\"name\"]\n",
    "        name_legend.append(label)\n",
    "        #plt.annotate(label, (x,y ) ,size = 20)\n",
    "    \n",
    "    elif circle.level == 3 and circle.ex[\"id\"] == \"sub_sub_corpus\":\n",
    "        x, y, r = circle\n",
    "        #print(r*circle.ex[\"datum\"])\n",
    "        ax.add_patch( plt.Circle((x, y+0.03), r, alpha=0.9, linewidth=2, color=\"Tomato\"))\n",
    "        label = circle.ex[\"name\"]\n",
    "        name_legend.append(label)\n",
    "        #plt.annotate(label, (x,y ) ,size = 20)\n",
    "            \n",
    "    elif circle.level == 3 and circle.ex[\"id\"] == \"annoted_corpus\":\n",
    "        x, y, r = circle\n",
    "        #print(r*circle.ex[\"datum\"])\n",
    "        ax.add_patch( plt.Circle((x+0.15, y-0.15), r, alpha=1, linewidth=2, color=\"OrangeRed\"))\n",
    "        label = circle.ex[\"name\"]\n",
    "        name_legend.append(label)\n",
    "        #plt.annotate(label, (x,y ) ,size = 20)\n",
    "        \n",
    "    elif circle.level == 2 and circle.ex[\"id\"] == \"corpus_tw\":\n",
    "        x, y, r = circle\n",
    "        #print(r*circle.ex[\"datum\"])\n",
    "        ax.add_patch( plt.Circle((x, y+0.3), r, alpha=0.4, linewidth=2, facecolor=\"Plum\", edgecolor=\"black\"))\n",
    "        label = circle.ex[\"name\"]\n",
    "        name_legend.append(label)\n",
    "        plt.annotate(label, (x,y) ,size = 20, xytext = (x,y+ 0.6))\n",
    "        \n",
    "    elif circle.level == 3 and circle.ex[\"id\"] == \"sub_corpus_tw\":\n",
    "        x, y, r = circle\n",
    "        #print(r*circle.ex[\"datum\"])\n",
    "        ax.add_patch( plt.Circle((x-0.2, y+0.1), r, alpha=1, linewidth=2, color=\"#DA70D6\"))\n",
    "        label = circle.ex[\"name\"]\n",
    "        name_legend.append(label)\n",
    "        #plt.annotate(label, (x,y ) ,size = 20)\n",
    "    \n",
    "    elif circle.level == 3 and circle.ex[\"id\"] == \"sub_sub_corpus_tw\":\n",
    "        x, y, r = circle\n",
    "        #print(r*circle.ex[\"datum\"])\n",
    "        ax.add_patch( plt.Circle((x+0.7, y-0.6), r, alpha=0.9, linewidth=2, color=\"#9932CC\"))\n",
    "        label = circle.ex[\"name\"]\n",
    "        name_legend.append(label)\n",
    "        #plt.annotate(label, (x,y ) ,size = 20)\n",
    "            \n",
    "    elif circle.level == 3 and circle.ex[\"id\"] == \"annoted_corpus_tw\":\n",
    "        x, y, r = circle\n",
    "        #print(r*circle.ex[\"datum\"])\n",
    "        ax.add_patch( plt.Circle((x-0.3, y-0.7), r, alpha=1, linewidth=2, color=\"DarkSlateBlue\"))\n",
    "        label = circle.ex[\"name\"]\n",
    "        name_legend.append(label)\n",
    "        #plt.annotate(label, (x,y ) ,size = 20)\n",
    "         \n",
    "                \n",
    "\n",
    "\n",
    "name_legende = [\n",
    "    \"Le corpus de posts facebook\",\n",
    "    \"Le corpus des tweets\", \n",
    "    \"Les posts annotés\",\n",
    "    \"Les posts des comptes ayant au moins 10 publications\",\n",
    "    \"Les posts des comptes ayant au moins 1% de leurs publications sur pesticides\",\n",
    "    \n",
    "    \"Les tweets des comptes ayant au moins 10 publications\",\n",
    "    \"Les tweets des comptes ayant au moins 1% de leurs publications sur pesticides\",\n",
    "    \"Les tweets des comptes annotés\"]\n",
    "\n",
    "plt.legend(name_legend, loc=3, fontsize = 12, ncol = 1)\n"
   ]
  },
  {
   "cell_type": "code",
   "execution_count": null,
   "id": "6120550a",
   "metadata": {
    "tags": [
     "remove-input"
    ]
   },
   "outputs": [],
   "source": [
    "size_all_corpus = len(df)\n",
    "\n",
    "data2 = [{'id': \"all\", 'name': 'Les comptes Facebook et Twitter', 'datum': size_all_corpus, \"children\" :[\n",
    "         {'id': \"corpus\", 'name': 'Les comptes Facebook', 'datum': nb_fb_account, \"children\":[\n",
    "             {'id': \"sub_corpus\", \"name\": 'Les comptes ayant au moins 10 publications', \"datum\" : nb_fb_with_10_posts},\n",
    "          {'id': \"sub_sub_corpus\", \"name\": 'Les comptes ayant au moins 1% de leurs publications sur pesticides', 'datum': nb_fb_with_1percent_posts},\n",
    "          {'id': \"annoted_corpus\", \"name\": 'Les comptes facebook annotés', 'datum':nb_fb_annoted_account}\n",
    "         ]},\n",
    "    {'id': \"corpus_tw\", 'name': 'Les comptes Twitter', 'datum': nb_tw_account, \"children\" :[\n",
    "             {'id': \"sub_corpus_tw\", \"name\": 'Les comptes ayant au moins 10 publications', \"datum\" : nb_tw_with_10_posts},\n",
    "          {'id': \"sub_sub_corpus_tw\", \"name\": 'Les comptes ayant au moins 1% de leurs publications sur pesticides', 'datum': nb_tw_with_1percent_posts},\n",
    "          {'id': \"annoted_corpus_tw\", \"name\": 'Les comptes twitter annotés', 'datum':nb_tw_annoted_account}\n",
    "        ]}\n",
    "]\n",
    "         }]\n",
    "# Compute circle positions thanks to the circlify() function\n",
    "circles2 = circlify.circlify(\n",
    "    data2, \n",
    "    show_enclosure=False\n",
    ")\n",
    "\n",
    "name_legend = []\n",
    "\n",
    "fig, ax = plt.subplots(figsize=(14,14))\n",
    "\n",
    "# Title\n",
    "fig.suptitle(\"Le poids des comptes annotés\", fontsize= 20)\n",
    "\n",
    "# Remove axes\n",
    "ax.axis('off')\n",
    "\n",
    "# Find axis boundaries\n",
    "lim = max(\n",
    "    max(\n",
    "        abs(circle.x) + circle.r,\n",
    "        abs(circle.y) + circle.r,\n",
    "    )\n",
    "    for circle in circles2\n",
    ")\n",
    "plt.xlim(-lim, lim)\n",
    "plt.ylim(-lim, lim)\n",
    "\n",
    "for circle in circles2:\n",
    "    if circle.level == 2 and circle.ex[\"id\"] == \"corpus\":\n",
    "        x, y, r = circle\n",
    "        #print(r*circle.ex[\"datum\"])\n",
    "        ax.add_patch( plt.Circle((x, y+0.5), r, alpha=0.5, linewidth=2, facecolor=\"Orange\", edgecolor=\"black\"))\n",
    "        label = circle.ex[\"name\"]\n",
    "        name_legend.append(label)\n",
    "        plt.annotate(label, (x, y) ,size = 20, xytext = (x-0.25,y+ 0.65))\n",
    "        \n",
    "    elif circle.level == 3 and circle.ex[\"id\"] == \"sub_corpus\":\n",
    "        x, y, r = circle\n",
    "        #print(r*circle.ex[\"datum\"])\n",
    "        ax.add_patch( plt.Circle((x-0.1, y+0.4), r, alpha=1, linewidth=2, color=\"#FF8C00\"))\n",
    "        label = circle.ex[\"name\"]\n",
    "        name_legend.append(label)\n",
    "        #plt.annotate(label, (x,y ) ,size = 20)\n",
    "    \n",
    "    elif circle.level == 3 and circle.ex[\"id\"] == \"sub_sub_corpus\":\n",
    "        x, y, r = circle\n",
    "        #print(r*circle.ex[\"datum\"])\n",
    "        ax.add_patch( plt.Circle((x+0.1, y+0.06), r, alpha=0.9, linewidth=2, color=\"Tomato\"))\n",
    "        label = circle.ex[\"name\"]\n",
    "        name_legend.append(label)\n",
    "        #plt.annotate(label, (x,y ) ,size = 20)\n",
    "    elif circle.level == 3 and circle.ex[\"id\"] == \"annoted_corpus\":\n",
    "        x, y, r = circle\n",
    "        #print(r*circle.ex[\"datum\"])\n",
    "        ax.add_patch( plt.Circle((x+0.2, y), r, alpha=1, linewidth=2, color=\"OrangeRed\"))\n",
    "        label = circle.ex[\"name\"]\n",
    "        name_legend.append(label)\n",
    "        #plt.annotate(label, (x,y ) ,size = 20)\n",
    "        \n",
    "    elif circle.level == 2 and circle.ex[\"id\"] == \"corpus_tw\":\n",
    "        x, y, r = circle\n",
    "        #print(r*circle.ex[\"datum\"])\n",
    "        ax.add_patch( plt.Circle((x-0.05, y+0.05), r, alpha=0.4, linewidth=2, facecolor=\"Plum\", edgecolor=\"black\"))\n",
    "        label = circle.ex[\"name\"]\n",
    "        name_legend.append(label)\n",
    "        plt.annotate(label, (x,y) ,size = 20, xytext = (x-0.3,y+ 0.55))\n",
    "        \n",
    "    elif circle.level == 3 and circle.ex[\"id\"] == \"sub_corpus_tw\":\n",
    "        x, y, r = circle\n",
    "        #print(r*circle.ex[\"datum\"])\n",
    "        ax.add_patch( plt.Circle((x-0.15, y), r, alpha=1, linewidth=2, color=\"#DA70D6\"))\n",
    "        label = circle.ex[\"name\"]\n",
    "        name_legend.append(label)\n",
    "        #plt.annotate(label, (x,y ) ,size = 20)\n",
    "    \n",
    "    elif circle.level == 3 and circle.ex[\"id\"] == \"sub_sub_corpus_tw\":\n",
    "        x, y, r = circle\n",
    "        #print(r*circle.ex[\"datum\"])\n",
    "        ax.add_patch( plt.Circle((x+0.85, y-0.75), r, alpha=0.9, linewidth=2, color=\"#9932CC\"))\n",
    "        label = circle.ex[\"name\"]\n",
    "        name_legend.append(label)\n",
    "        #plt.annotate(label, (x,y ) ,size = 20)\n",
    "            \n",
    "    elif circle.level == 3 and circle.ex[\"id\"] == \"annoted_corpus_tw\":\n",
    "        x, y, r = circle\n",
    "        #print(r*circle.ex[\"datum\"])\n",
    "        ax.add_patch( plt.Circle((x+0.8, y-0.7), r, alpha=1, linewidth=2, color=\"DarkSlateBlue\"))\n",
    "        label = circle.ex[\"name\"]\n",
    "        name_legend.append(label)\n",
    "        #plt.annotate(label, (x,y ) ,size = 20)\n",
    "        \n",
    "    \n",
    "                \n",
    "\n",
    "\n",
    "name_legende = [\n",
    "    \"Le corpus de posts facebook\",\n",
    "    \"Le corpus des tweets\", \n",
    "    \"Les posts annotés\",\n",
    "    \"Les posts des comptes ayant au moins 10 publications\",\n",
    "    \"Les posts des comptes ayant au moins 1% de leurs publications sur pesticides\",\n",
    "    \n",
    "    \"Les tweets des comptes ayant au moins 10 publications\",\n",
    "    \"Les tweets des comptes ayant au moins 1% de leurs publications sur pesticides\",\n",
    "    \"Les tweets des comptes annotés\"]\n",
    "\n",
    "plt.legend(name_legend, loc=3, fontsize = 12, ncol = 1)\n",
    "\n"
   ]
  }
 ],
 "metadata": {
  "celltoolbar": "Tags",
  "hide_input": false,
  "kernelspec": {
   "display_name": "analyse_tweets",
   "language": "python",
   "name": "analyse_tweets"
  },
  "language_info": {
   "codemirror_mode": {
    "name": "ipython",
    "version": 3
   },
   "file_extension": ".py",
   "mimetype": "text/x-python",
   "name": "python",
   "nbconvert_exporter": "python",
   "pygments_lexer": "ipython3",
   "version": "3.9.7"
  }
 },
 "nbformat": 4,
 "nbformat_minor": 5
}
